{
 "cells": [
  {
   "cell_type": "code",
   "execution_count": 11,
   "id": "82bac174-485b-4ca2-aff1-1517190f775c",
   "metadata": {},
   "outputs": [],
   "source": [
    "import os\n",
    "import pandas as pd \n",
    "import numpy as np\n",
    "import seaborn as sns\n",
    "import matplotlib.pyplot as plt\n",
    "sns.set_theme()"
   ]
  },
  {
   "cell_type": "code",
   "execution_count": 15,
   "id": "351732e5-656a-41d4-9319-a8b782c4b8c4",
   "metadata": {},
   "outputs": [
    {
     "data": {
      "text/plain": [
       "'/Users/main/PycharmProjects/Projects/fetch_interview'"
      ]
     },
     "execution_count": 15,
     "metadata": {},
     "output_type": "execute_result"
    }
   ],
   "source": [
    "os.getcwd()"
   ]
  },
  {
   "cell_type": "markdown",
   "id": "18f84387-5ec7-4cde-b298-d60ce53bb7aa",
   "metadata": {},
   "source": [
    "## Brands Tables"
   ]
  },
  {
   "cell_type": "code",
   "execution_count": 19,
   "id": "6b737cd3-cbc3-4fd8-bd75-6cd559db9229",
   "metadata": {},
   "outputs": [],
   "source": [
    "brands_file_path = 'data/brands.json'\n",
    "brands_raw = pd.read_json(brands_file_path, lines=True)"
   ]
  },
  {
   "cell_type": "code",
   "execution_count": 53,
   "id": "899ed4f6-61ac-424e-97ce-93a53735199d",
   "metadata": {},
   "outputs": [
    {
     "data": {
      "text/plain": [
       "(1167, 8)"
      ]
     },
     "execution_count": 53,
     "metadata": {},
     "output_type": "execute_result"
    }
   ],
   "source": [
    "brands_raw.shape"
   ]
  },
  {
   "cell_type": "code",
   "execution_count": 152,
   "id": "dd2214ad-4fea-45fb-8d76-736e88f77e79",
   "metadata": {},
   "outputs": [
    {
     "data": {
      "text/html": [
       "<div>\n",
       "<style scoped>\n",
       "    .dataframe tbody tr th:only-of-type {\n",
       "        vertical-align: middle;\n",
       "    }\n",
       "\n",
       "    .dataframe tbody tr th {\n",
       "        vertical-align: top;\n",
       "    }\n",
       "\n",
       "    .dataframe thead th {\n",
       "        text-align: right;\n",
       "    }\n",
       "</style>\n",
       "<table border=\"1\" class=\"dataframe\">\n",
       "  <thead>\n",
       "    <tr style=\"text-align: right;\">\n",
       "      <th></th>\n",
       "      <th>_id</th>\n",
       "      <th>barcode</th>\n",
       "      <th>category</th>\n",
       "      <th>categoryCode</th>\n",
       "      <th>cpg</th>\n",
       "      <th>name</th>\n",
       "      <th>topBrand</th>\n",
       "      <th>brandCode</th>\n",
       "    </tr>\n",
       "  </thead>\n",
       "  <tbody>\n",
       "    <tr>\n",
       "      <th>0</th>\n",
       "      <td>{'$oid': '601ac115be37ce2ead437551'}</td>\n",
       "      <td>511111019862</td>\n",
       "      <td>Baking</td>\n",
       "      <td>BAKING</td>\n",
       "      <td>{'$id': {'$oid': '601ac114be37ce2ead437550'}, ...</td>\n",
       "      <td>test brand @1612366101024</td>\n",
       "      <td>0.0</td>\n",
       "      <td>NaN</td>\n",
       "    </tr>\n",
       "    <tr>\n",
       "      <th>1</th>\n",
       "      <td>{'$oid': '601c5460be37ce2ead43755f'}</td>\n",
       "      <td>511111519928</td>\n",
       "      <td>Beverages</td>\n",
       "      <td>BEVERAGES</td>\n",
       "      <td>{'$id': {'$oid': '5332f5fbe4b03c9a25efd0ba'}, ...</td>\n",
       "      <td>Starbucks</td>\n",
       "      <td>0.0</td>\n",
       "      <td>STARBUCKS</td>\n",
       "    </tr>\n",
       "    <tr>\n",
       "      <th>2</th>\n",
       "      <td>{'$oid': '601ac142be37ce2ead43755d'}</td>\n",
       "      <td>511111819905</td>\n",
       "      <td>Baking</td>\n",
       "      <td>BAKING</td>\n",
       "      <td>{'$id': {'$oid': '601ac142be37ce2ead437559'}, ...</td>\n",
       "      <td>test brand @1612366146176</td>\n",
       "      <td>0.0</td>\n",
       "      <td>TEST BRANDCODE @1612366146176</td>\n",
       "    </tr>\n",
       "    <tr>\n",
       "      <th>3</th>\n",
       "      <td>{'$oid': '601ac142be37ce2ead43755a'}</td>\n",
       "      <td>511111519874</td>\n",
       "      <td>Baking</td>\n",
       "      <td>BAKING</td>\n",
       "      <td>{'$id': {'$oid': '601ac142be37ce2ead437559'}, ...</td>\n",
       "      <td>test brand @1612366146051</td>\n",
       "      <td>0.0</td>\n",
       "      <td>TEST BRANDCODE @1612366146051</td>\n",
       "    </tr>\n",
       "    <tr>\n",
       "      <th>4</th>\n",
       "      <td>{'$oid': '601ac142be37ce2ead43755e'}</td>\n",
       "      <td>511111319917</td>\n",
       "      <td>Candy &amp; Sweets</td>\n",
       "      <td>CANDY_AND_SWEETS</td>\n",
       "      <td>{'$id': {'$oid': '5332fa12e4b03c9a25efd1e7'}, ...</td>\n",
       "      <td>test brand @1612366146827</td>\n",
       "      <td>0.0</td>\n",
       "      <td>TEST BRANDCODE @1612366146827</td>\n",
       "    </tr>\n",
       "  </tbody>\n",
       "</table>\n",
       "</div>"
      ],
      "text/plain": [
       "                                    _id       barcode        category  \\\n",
       "0  {'$oid': '601ac115be37ce2ead437551'}  511111019862          Baking   \n",
       "1  {'$oid': '601c5460be37ce2ead43755f'}  511111519928       Beverages   \n",
       "2  {'$oid': '601ac142be37ce2ead43755d'}  511111819905          Baking   \n",
       "3  {'$oid': '601ac142be37ce2ead43755a'}  511111519874          Baking   \n",
       "4  {'$oid': '601ac142be37ce2ead43755e'}  511111319917  Candy & Sweets   \n",
       "\n",
       "       categoryCode                                                cpg  \\\n",
       "0            BAKING  {'$id': {'$oid': '601ac114be37ce2ead437550'}, ...   \n",
       "1         BEVERAGES  {'$id': {'$oid': '5332f5fbe4b03c9a25efd0ba'}, ...   \n",
       "2            BAKING  {'$id': {'$oid': '601ac142be37ce2ead437559'}, ...   \n",
       "3            BAKING  {'$id': {'$oid': '601ac142be37ce2ead437559'}, ...   \n",
       "4  CANDY_AND_SWEETS  {'$id': {'$oid': '5332fa12e4b03c9a25efd1e7'}, ...   \n",
       "\n",
       "                        name  topBrand                      brandCode  \n",
       "0  test brand @1612366101024       0.0                            NaN  \n",
       "1                  Starbucks       0.0                      STARBUCKS  \n",
       "2  test brand @1612366146176       0.0  TEST BRANDCODE @1612366146176  \n",
       "3  test brand @1612366146051       0.0  TEST BRANDCODE @1612366146051  \n",
       "4  test brand @1612366146827       0.0  TEST BRANDCODE @1612366146827  "
      ]
     },
     "execution_count": 152,
     "metadata": {},
     "output_type": "execute_result"
    }
   ],
   "source": [
    "brands_raw.head()"
   ]
  },
  {
   "cell_type": "code",
   "execution_count": 25,
   "id": "0fe23164-5bca-4c3c-b9d6-a0121f5511fb",
   "metadata": {},
   "outputs": [
    {
     "name": "stdout",
     "output_type": "stream",
     "text": [
      "<class 'pandas.core.frame.DataFrame'>\n",
      "RangeIndex: 1167 entries, 0 to 1166\n",
      "Data columns (total 8 columns):\n",
      " #   Column        Non-Null Count  Dtype  \n",
      "---  ------        --------------  -----  \n",
      " 0   _id           1167 non-null   object \n",
      " 1   barcode       1167 non-null   int64  \n",
      " 2   category      1012 non-null   object \n",
      " 3   categoryCode  517 non-null    object \n",
      " 4   cpg           1167 non-null   object \n",
      " 5   name          1167 non-null   object \n",
      " 6   topBrand      555 non-null    float64\n",
      " 7   brandCode     933 non-null    object \n",
      "dtypes: float64(1), int64(1), object(6)\n",
      "memory usage: 73.1+ KB\n"
     ]
    }
   ],
   "source": [
    "brands_raw.info()"
   ]
  },
  {
   "cell_type": "code",
   "execution_count": 31,
   "id": "f969a63c-c188-407a-8550-51aaf23e814c",
   "metadata": {},
   "outputs": [
    {
     "data": {
      "text/plain": [
       "_id              object\n",
       "barcode           int64\n",
       "category         object\n",
       "categoryCode     object\n",
       "cpg              object\n",
       "name             object\n",
       "topBrand        float64\n",
       "brandCode        object\n",
       "dtype: object"
      ]
     },
     "execution_count": 31,
     "metadata": {},
     "output_type": "execute_result"
    }
   ],
   "source": [
    "brands_raw.dtypes"
   ]
  },
  {
   "cell_type": "code",
   "execution_count": 43,
   "id": "2cd6b914-26b1-48ae-8953-abd14d151b19",
   "metadata": {},
   "outputs": [
    {
     "name": "stdout",
     "output_type": "stream",
     "text": [
      "_id\n",
      "{'$oid': '601ac115be37ce2ead437551'}    1\n",
      "{'$oid': '5ffe3a86be37ce7aab2d4fd5'}    1\n",
      "{'$oid': '55a58727e4b0d0a65b3693cd'}    1\n",
      "{'$oid': '5f493dabbe37ce64d0ae36bb'}    1\n",
      "{'$oid': '5f493e72be37ce64d0ae36c1'}    1\n",
      "Name: count, dtype: int64\n",
      "barcode\n",
      "511111305125    2\n",
      "511111504788    2\n",
      "511111704140    2\n",
      "511111004790    2\n",
      "511111504139    2\n",
      "Name: count, dtype: int64\n",
      "category\n",
      "Baking               369\n",
      "Beer Wine Spirits     90\n",
      "Snacks                75\n",
      "Candy & Sweets        71\n",
      "Beverages             63\n",
      "Name: count, dtype: int64\n",
      "categoryCode\n",
      "BAKING                  359\n",
      "CANDY_AND_SWEETS         71\n",
      "BEER_WINE_SPIRITS        31\n",
      "HEALTHY_AND_WELLNESS     14\n",
      "GROCERY                  11\n",
      "Name: count, dtype: int64\n",
      "cpg\n",
      "{'$ref': 'Cogs', '$id': {'$oid': '559c2234e4b06aca36af13c6'}}    98\n",
      "{'$id': {'$oid': '5332f5fbe4b03c9a25efd0ba'}, '$ref': 'Cogs'}    83\n",
      "{'$id': {'$oid': '5332fa12e4b03c9a25efd1e7'}, '$ref': 'Cogs'}    71\n",
      "{'$ref': 'Cogs', '$id': {'$oid': '53e10d6368abd3c7065097cc'}}    64\n",
      "{'$ref': 'Cogs', '$id': {'$oid': '5332f709e4b03c9a25efd0f1'}}    55\n",
      "Name: count, dtype: int64\n",
      "name\n",
      "Huggies                     2\n",
      "V8 Hydrate                  2\n",
      "Pull-Ups                    2\n",
      "Dippin Dots® Cereal         2\n",
      "Diabetic Living Magazine    2\n",
      "Name: count, dtype: int64\n",
      "topBrand\n",
      "0.0    524\n",
      "1.0     31\n",
      "Name: count, dtype: int64\n",
      "brandCode\n",
      "               35\n",
      "GOODNITES       2\n",
      "HUGGIES         2\n",
      "ROYAL DANSK     1\n",
      "SOL             1\n",
      "Name: count, dtype: int64\n"
     ]
    }
   ],
   "source": [
    "for col in brands_raw.columns: \n",
    "    print(brands_raw[col].value_counts().head())"
   ]
  },
  {
   "cell_type": "markdown",
   "id": "595da906-b286-45b6-b74c-df52fb840e11",
   "metadata": {},
   "source": [
    "* Here we notice the prescence of Nested fields (id and cpg)\n",
    "* We can use this view to verify the correct dtype assignment for these fields as well\n",
    "* This view is also helpful to general distribution of values, especially for categorical variables such as topBrand"
   ]
  },
  {
   "cell_type": "markdown",
   "id": "280dd679-d652-40b8-adc2-aa51bc1e9e88",
   "metadata": {},
   "source": [
    "**Let's quickly fix the nested fields:**"
   ]
  },
  {
   "cell_type": "code",
   "execution_count": 76,
   "id": "5880a0f4-266a-4370-8a7f-44962d64eb06",
   "metadata": {},
   "outputs": [],
   "source": [
    "brands_df = brands_raw.copy()"
   ]
  },
  {
   "cell_type": "code",
   "execution_count": 80,
   "id": "a407fbeb-f667-487d-b045-6fd4ba55db38",
   "metadata": {},
   "outputs": [],
   "source": [
    "brands_df['_id'] = brands_df['_id'].apply(lambda x: x.get('$oid', None) if isinstance(x, dict) else None)\n",
    "brands_df.rename(columns={'_id': 'brands_id'}, inplace=True)"
   ]
  },
  {
   "cell_type": "code",
   "execution_count": 84,
   "id": "ee9eb37d-83ea-47a5-b6bb-b366ae73f194",
   "metadata": {},
   "outputs": [],
   "source": [
    "brands_df['cpg_ref'] = brands_df['cpg'].apply(lambda x: x.get('$ref', None) if isinstance(x, dict) else None)\n",
    "brands_df['cpg_id'] = brands_df['cpg'].apply(lambda x: x.get('$id', {}).get('$oid', None) if isinstance(x, dict) else None)"
   ]
  },
  {
   "cell_type": "code",
   "execution_count": 90,
   "id": "5b81b2fd-9f18-4a8c-a049-2791f6b8fe2d",
   "metadata": {},
   "outputs": [],
   "source": [
    " brands_df.drop(columns=['cpg'],inplace=True)"
   ]
  },
  {
   "cell_type": "code",
   "execution_count": 94,
   "id": "442a7e22-86c7-4c28-9344-c7671be65456",
   "metadata": {},
   "outputs": [
    {
     "data": {
      "text/plain": [
       "Index(['brands_id', 'barcode', 'category', 'categoryCode', 'name', 'topBrand',\n",
       "       'brandCode', 'cpg_ref', 'cpg_id'],\n",
       "      dtype='object')"
      ]
     },
     "execution_count": 94,
     "metadata": {},
     "output_type": "execute_result"
    }
   ],
   "source": [
    "brands_df.columns"
   ]
  },
  {
   "cell_type": "code",
   "execution_count": 96,
   "id": "20aa4bd1-9575-41cd-b859-f151fbc14bd4",
   "metadata": {},
   "outputs": [
    {
     "data": {
      "text/plain": [
       "brands_id        object\n",
       "barcode           int64\n",
       "category         object\n",
       "categoryCode     object\n",
       "name             object\n",
       "topBrand        float64\n",
       "brandCode        object\n",
       "cpg_ref          object\n",
       "cpg_id           object\n",
       "dtype: object"
      ]
     },
     "execution_count": 96,
     "metadata": {},
     "output_type": "execute_result"
    }
   ],
   "source": [
    "brands_df.dtypes"
   ]
  },
  {
   "cell_type": "code",
   "execution_count": 100,
   "id": "85995492-bc53-487a-b6eb-5323191547b3",
   "metadata": {},
   "outputs": [],
   "source": [
    "brands_df = brands_df.astype(str)"
   ]
  },
  {
   "cell_type": "code",
   "execution_count": 108,
   "id": "fd53194d-5eb7-40dc-aeba-242d5d036fc5",
   "metadata": {},
   "outputs": [
    {
     "name": "stdout",
     "output_type": "stream",
     "text": [
      "brands_id\n",
      "1167\n",
      "barcode\n",
      "1160\n",
      "category\n",
      "24\n",
      "categoryCode\n",
      "15\n",
      "name\n",
      "1156\n",
      "topBrand\n",
      "3\n",
      "brandCode\n",
      "898\n",
      "cpg_ref\n",
      "2\n",
      "cpg_id\n",
      "196\n"
     ]
    }
   ],
   "source": [
    "for col in brands_df.columns:  \n",
    "    print(col)\n",
    "    print(brands_df[col].nunique())"
   ]
  },
  {
   "cell_type": "code",
   "execution_count": 128,
   "id": "95eb4d5d-7b08-46f5-89e4-a69eab77474e",
   "metadata": {},
   "outputs": [
    {
     "data": {
      "text/plain": [
       "barcode\n",
       "511111305125    2\n",
       "511111504788    2\n",
       "511111704140    2\n",
       "511111004790    2\n",
       "511111504139    2\n",
       "511111605058    2\n",
       "511111204923    2\n",
       "511111903291    1\n",
       "511111201793    1\n",
       "511111816546    1\n",
       "Name: count, dtype: int64"
      ]
     },
     "execution_count": 128,
     "metadata": {},
     "output_type": "execute_result"
    }
   ],
   "source": [
    "brands_df.barcode.value_counts().head(10)"
   ]
  },
  {
   "cell_type": "code",
   "execution_count": 124,
   "id": "6f386a21-50aa-4aec-b70f-cbbd14598904",
   "metadata": {},
   "outputs": [
    {
     "data": {
      "text/html": [
       "<div>\n",
       "<style scoped>\n",
       "    .dataframe tbody tr th:only-of-type {\n",
       "        vertical-align: middle;\n",
       "    }\n",
       "\n",
       "    .dataframe tbody tr th {\n",
       "        vertical-align: top;\n",
       "    }\n",
       "\n",
       "    .dataframe thead th {\n",
       "        text-align: right;\n",
       "    }\n",
       "</style>\n",
       "<table border=\"1\" class=\"dataframe\">\n",
       "  <thead>\n",
       "    <tr style=\"text-align: right;\">\n",
       "      <th></th>\n",
       "      <th>brands_id</th>\n",
       "      <th>barcode</th>\n",
       "      <th>category</th>\n",
       "      <th>categoryCode</th>\n",
       "      <th>name</th>\n",
       "      <th>topBrand</th>\n",
       "      <th>brandCode</th>\n",
       "      <th>cpg_ref</th>\n",
       "      <th>cpg_id</th>\n",
       "    </tr>\n",
       "  </thead>\n",
       "  <tbody>\n",
       "    <tr>\n",
       "      <th>9</th>\n",
       "      <td>5c408e8bcd244a1fdb47aee7</td>\n",
       "      <td>511111504788</td>\n",
       "      <td>Baking</td>\n",
       "      <td>nan</td>\n",
       "      <td>test</td>\n",
       "      <td>nan</td>\n",
       "      <td>TEST</td>\n",
       "      <td>Cogs</td>\n",
       "      <td>59ba6f1ce4b092b29c167346</td>\n",
       "    </tr>\n",
       "    <tr>\n",
       "      <th>412</th>\n",
       "      <td>5ccb2ece166eb31bbbadccbe</td>\n",
       "      <td>511111504788</td>\n",
       "      <td>Condiments &amp; Sauces</td>\n",
       "      <td>nan</td>\n",
       "      <td>The Pioneer Woman</td>\n",
       "      <td>nan</td>\n",
       "      <td>PIONEER WOMAN</td>\n",
       "      <td>Cogs</td>\n",
       "      <td>559c2234e4b06aca36af13c6</td>\n",
       "    </tr>\n",
       "  </tbody>\n",
       "</table>\n",
       "</div>"
      ],
      "text/plain": [
       "                    brands_id       barcode             category categoryCode  \\\n",
       "9    5c408e8bcd244a1fdb47aee7  511111504788               Baking          nan   \n",
       "412  5ccb2ece166eb31bbbadccbe  511111504788  Condiments & Sauces          nan   \n",
       "\n",
       "                  name topBrand      brandCode cpg_ref  \\\n",
       "9                 test      nan           TEST    Cogs   \n",
       "412  The Pioneer Woman      nan  PIONEER WOMAN    Cogs   \n",
       "\n",
       "                       cpg_id  \n",
       "9    59ba6f1ce4b092b29c167346  \n",
       "412  559c2234e4b06aca36af13c6  "
      ]
     },
     "execution_count": 124,
     "metadata": {},
     "output_type": "execute_result"
    }
   ],
   "source": [
    "brands_df.query('barcode == \"511111504788\"')"
   ]
  },
  {
   "cell_type": "markdown",
   "id": "ddb14da1-297e-403d-8daf-55e2856c2697",
   "metadata": {},
   "source": [
    "* We notice that brandCode has \"test\" items here (this is removed in the clean up portion of etl_items script)\n",
    "* It appears that the category and cpg_id are different for the same barcode\n",
    "* 7 of the records appear to share the same barcode in our sample, while this represents a small portion of the sample, it can be much larger outside of this sample"
   ]
  },
  {
   "cell_type": "code",
   "execution_count": 133,
   "id": "787e8a23-34c6-4240-b4a9-e7ffe07881ea",
   "metadata": {},
   "outputs": [
    {
     "data": {
      "text/plain": [
       "category\n",
       "Baking                         369\n",
       "nan                            155\n",
       "Beer Wine Spirits               90\n",
       "Snacks                          75\n",
       "Candy & Sweets                  71\n",
       "Beverages                       63\n",
       "Magazines                       44\n",
       "Health & Wellness               44\n",
       "Breakfast & Cereal              40\n",
       "Grocery                         39\n",
       "Dairy                           33\n",
       "Condiments & Sauces             27\n",
       "Frozen                          24\n",
       "Personal Care                   20\n",
       "Baby                            18\n",
       "Canned Goods & Soups            12\n",
       "Beauty                           9\n",
       "Cleaning & Home Improvement      6\n",
       "Deli                             6\n",
       "Beauty & Personal Care           6\n",
       "Household                        5\n",
       "Bread & Bakery                   5\n",
       "Dairy & Refrigerated             5\n",
       "Outdoor                          1\n",
       "Name: count, dtype: int64"
      ]
     },
     "execution_count": 133,
     "metadata": {},
     "output_type": "execute_result"
    }
   ],
   "source": [
    "brands_df.category.value_counts()"
   ]
  },
  {
   "cell_type": "markdown",
   "id": "b45313c2-49f3-4758-9951-180f1f2ee1a5",
   "metadata": {},
   "source": [
    "### brandCode & barcode association\n",
    "* This field was mostly cleaned in the etl_items portion of the pipeline; here are a few things that were noticed during EDA:\n",
    "    * Multiple test records exists  (removed by filtering out \"test\")\n",
    "    * Multiple records contained 4011; which appears to be matched to ITEM NOT FOUND in the description field (these were removed)\n",
    "    * Fruits and Vegetables seem to be assigned a 4 or 5 digit code (These were dropped as they don't contain brand information and are not relevant to answering the SQL questions)\n"
   ]
  },
  {
   "cell_type": "markdown",
   "id": "a50ac80b-fe85-401b-8f3a-23bf804a7012",
   "metadata": {},
   "source": [
    "## Users Table"
   ]
  },
  {
   "cell_type": "code",
   "execution_count": 146,
   "id": "826521c4-c0b7-4d46-9dee-911d2df0b5bf",
   "metadata": {},
   "outputs": [],
   "source": [
    "users_file_path = 'data/users.json'\n",
    "users_raw = pd.read_json(users_file_path, lines=True)"
   ]
  },
  {
   "cell_type": "code",
   "execution_count": 148,
   "id": "fa5ab882-9b40-486e-b839-4c0b811ce4c4",
   "metadata": {},
   "outputs": [
    {
     "data": {
      "text/plain": [
       "(495, 7)"
      ]
     },
     "execution_count": 148,
     "metadata": {},
     "output_type": "execute_result"
    }
   ],
   "source": [
    "users_raw.shape"
   ]
  },
  {
   "cell_type": "code",
   "execution_count": 150,
   "id": "5a8139a7-bafa-4b07-8f39-6cf4a0de9e77",
   "metadata": {},
   "outputs": [
    {
     "data": {
      "text/html": [
       "<div>\n",
       "<style scoped>\n",
       "    .dataframe tbody tr th:only-of-type {\n",
       "        vertical-align: middle;\n",
       "    }\n",
       "\n",
       "    .dataframe tbody tr th {\n",
       "        vertical-align: top;\n",
       "    }\n",
       "\n",
       "    .dataframe thead th {\n",
       "        text-align: right;\n",
       "    }\n",
       "</style>\n",
       "<table border=\"1\" class=\"dataframe\">\n",
       "  <thead>\n",
       "    <tr style=\"text-align: right;\">\n",
       "      <th></th>\n",
       "      <th>_id</th>\n",
       "      <th>active</th>\n",
       "      <th>createdDate</th>\n",
       "      <th>lastLogin</th>\n",
       "      <th>role</th>\n",
       "      <th>signUpSource</th>\n",
       "      <th>state</th>\n",
       "    </tr>\n",
       "  </thead>\n",
       "  <tbody>\n",
       "    <tr>\n",
       "      <th>0</th>\n",
       "      <td>{'$oid': '5ff1e194b6a9d73a3a9f1052'}</td>\n",
       "      <td>True</td>\n",
       "      <td>{'$date': 1609687444800}</td>\n",
       "      <td>{'$date': 1609687537858}</td>\n",
       "      <td>consumer</td>\n",
       "      <td>Email</td>\n",
       "      <td>WI</td>\n",
       "    </tr>\n",
       "    <tr>\n",
       "      <th>1</th>\n",
       "      <td>{'$oid': '5ff1e194b6a9d73a3a9f1052'}</td>\n",
       "      <td>True</td>\n",
       "      <td>{'$date': 1609687444800}</td>\n",
       "      <td>{'$date': 1609687537858}</td>\n",
       "      <td>consumer</td>\n",
       "      <td>Email</td>\n",
       "      <td>WI</td>\n",
       "    </tr>\n",
       "    <tr>\n",
       "      <th>2</th>\n",
       "      <td>{'$oid': '5ff1e194b6a9d73a3a9f1052'}</td>\n",
       "      <td>True</td>\n",
       "      <td>{'$date': 1609687444800}</td>\n",
       "      <td>{'$date': 1609687537858}</td>\n",
       "      <td>consumer</td>\n",
       "      <td>Email</td>\n",
       "      <td>WI</td>\n",
       "    </tr>\n",
       "    <tr>\n",
       "      <th>3</th>\n",
       "      <td>{'$oid': '5ff1e1eacfcf6c399c274ae6'}</td>\n",
       "      <td>True</td>\n",
       "      <td>{'$date': 1609687530554}</td>\n",
       "      <td>{'$date': 1609687530597}</td>\n",
       "      <td>consumer</td>\n",
       "      <td>Email</td>\n",
       "      <td>WI</td>\n",
       "    </tr>\n",
       "    <tr>\n",
       "      <th>4</th>\n",
       "      <td>{'$oid': '5ff1e194b6a9d73a3a9f1052'}</td>\n",
       "      <td>True</td>\n",
       "      <td>{'$date': 1609687444800}</td>\n",
       "      <td>{'$date': 1609687537858}</td>\n",
       "      <td>consumer</td>\n",
       "      <td>Email</td>\n",
       "      <td>WI</td>\n",
       "    </tr>\n",
       "  </tbody>\n",
       "</table>\n",
       "</div>"
      ],
      "text/plain": [
       "                                    _id  active               createdDate  \\\n",
       "0  {'$oid': '5ff1e194b6a9d73a3a9f1052'}    True  {'$date': 1609687444800}   \n",
       "1  {'$oid': '5ff1e194b6a9d73a3a9f1052'}    True  {'$date': 1609687444800}   \n",
       "2  {'$oid': '5ff1e194b6a9d73a3a9f1052'}    True  {'$date': 1609687444800}   \n",
       "3  {'$oid': '5ff1e1eacfcf6c399c274ae6'}    True  {'$date': 1609687530554}   \n",
       "4  {'$oid': '5ff1e194b6a9d73a3a9f1052'}    True  {'$date': 1609687444800}   \n",
       "\n",
       "                  lastLogin      role signUpSource state  \n",
       "0  {'$date': 1609687537858}  consumer        Email    WI  \n",
       "1  {'$date': 1609687537858}  consumer        Email    WI  \n",
       "2  {'$date': 1609687537858}  consumer        Email    WI  \n",
       "3  {'$date': 1609687530597}  consumer        Email    WI  \n",
       "4  {'$date': 1609687537858}  consumer        Email    WI  "
      ]
     },
     "execution_count": 150,
     "metadata": {},
     "output_type": "execute_result"
    }
   ],
   "source": [
    "users_raw.head()"
   ]
  },
  {
   "cell_type": "code",
   "execution_count": 156,
   "id": "4f778083-4414-49b1-b603-7b84622dbc1f",
   "metadata": {},
   "outputs": [],
   "source": [
    "users_df = users_raw.copy()"
   ]
  },
  {
   "cell_type": "code",
   "execution_count": 158,
   "id": "2b0badd7-167c-4363-8290-ff9d6300963b",
   "metadata": {},
   "outputs": [],
   "source": [
    "users_df['_id'] = users_df['_id'].apply(lambda x: x.get('$oid', None) if isinstance(x, dict) else None)\n",
    "users_df.rename(columns={'_id': 'user_id'}, inplace=True)"
   ]
  },
  {
   "cell_type": "code",
   "execution_count": 160,
   "id": "71ec3176-759e-47c2-980b-a323a95df790",
   "metadata": {},
   "outputs": [],
   "source": [
    "date_fields = ['createdDate', 'lastLogin']\n",
    "for field in date_fields:\n",
    "    users_df[field] = users_df[field].apply(\n",
    "        lambda x: pd.to_datetime(x.get('$date', None), unit='ms') if isinstance(x, dict) else None\n",
    "        )"
   ]
  },
  {
   "cell_type": "code",
   "execution_count": 162,
   "id": "96d994f8-967b-46c9-9b69-9cf947c12eb3",
   "metadata": {},
   "outputs": [
    {
     "data": {
      "text/html": [
       "<div>\n",
       "<style scoped>\n",
       "    .dataframe tbody tr th:only-of-type {\n",
       "        vertical-align: middle;\n",
       "    }\n",
       "\n",
       "    .dataframe tbody tr th {\n",
       "        vertical-align: top;\n",
       "    }\n",
       "\n",
       "    .dataframe thead th {\n",
       "        text-align: right;\n",
       "    }\n",
       "</style>\n",
       "<table border=\"1\" class=\"dataframe\">\n",
       "  <thead>\n",
       "    <tr style=\"text-align: right;\">\n",
       "      <th></th>\n",
       "      <th>user_id</th>\n",
       "      <th>active</th>\n",
       "      <th>createdDate</th>\n",
       "      <th>lastLogin</th>\n",
       "      <th>role</th>\n",
       "      <th>signUpSource</th>\n",
       "      <th>state</th>\n",
       "    </tr>\n",
       "  </thead>\n",
       "  <tbody>\n",
       "    <tr>\n",
       "      <th>0</th>\n",
       "      <td>5ff1e194b6a9d73a3a9f1052</td>\n",
       "      <td>True</td>\n",
       "      <td>2021-01-03 15:24:04.800</td>\n",
       "      <td>2021-01-03 15:25:37.858</td>\n",
       "      <td>consumer</td>\n",
       "      <td>Email</td>\n",
       "      <td>WI</td>\n",
       "    </tr>\n",
       "    <tr>\n",
       "      <th>1</th>\n",
       "      <td>5ff1e194b6a9d73a3a9f1052</td>\n",
       "      <td>True</td>\n",
       "      <td>2021-01-03 15:24:04.800</td>\n",
       "      <td>2021-01-03 15:25:37.858</td>\n",
       "      <td>consumer</td>\n",
       "      <td>Email</td>\n",
       "      <td>WI</td>\n",
       "    </tr>\n",
       "    <tr>\n",
       "      <th>2</th>\n",
       "      <td>5ff1e194b6a9d73a3a9f1052</td>\n",
       "      <td>True</td>\n",
       "      <td>2021-01-03 15:24:04.800</td>\n",
       "      <td>2021-01-03 15:25:37.858</td>\n",
       "      <td>consumer</td>\n",
       "      <td>Email</td>\n",
       "      <td>WI</td>\n",
       "    </tr>\n",
       "    <tr>\n",
       "      <th>3</th>\n",
       "      <td>5ff1e1eacfcf6c399c274ae6</td>\n",
       "      <td>True</td>\n",
       "      <td>2021-01-03 15:25:30.554</td>\n",
       "      <td>2021-01-03 15:25:30.597</td>\n",
       "      <td>consumer</td>\n",
       "      <td>Email</td>\n",
       "      <td>WI</td>\n",
       "    </tr>\n",
       "    <tr>\n",
       "      <th>4</th>\n",
       "      <td>5ff1e194b6a9d73a3a9f1052</td>\n",
       "      <td>True</td>\n",
       "      <td>2021-01-03 15:24:04.800</td>\n",
       "      <td>2021-01-03 15:25:37.858</td>\n",
       "      <td>consumer</td>\n",
       "      <td>Email</td>\n",
       "      <td>WI</td>\n",
       "    </tr>\n",
       "  </tbody>\n",
       "</table>\n",
       "</div>"
      ],
      "text/plain": [
       "                    user_id  active             createdDate  \\\n",
       "0  5ff1e194b6a9d73a3a9f1052    True 2021-01-03 15:24:04.800   \n",
       "1  5ff1e194b6a9d73a3a9f1052    True 2021-01-03 15:24:04.800   \n",
       "2  5ff1e194b6a9d73a3a9f1052    True 2021-01-03 15:24:04.800   \n",
       "3  5ff1e1eacfcf6c399c274ae6    True 2021-01-03 15:25:30.554   \n",
       "4  5ff1e194b6a9d73a3a9f1052    True 2021-01-03 15:24:04.800   \n",
       "\n",
       "                lastLogin      role signUpSource state  \n",
       "0 2021-01-03 15:25:37.858  consumer        Email    WI  \n",
       "1 2021-01-03 15:25:37.858  consumer        Email    WI  \n",
       "2 2021-01-03 15:25:37.858  consumer        Email    WI  \n",
       "3 2021-01-03 15:25:30.597  consumer        Email    WI  \n",
       "4 2021-01-03 15:25:37.858  consumer        Email    WI  "
      ]
     },
     "execution_count": 162,
     "metadata": {},
     "output_type": "execute_result"
    }
   ],
   "source": [
    "users_df.head()"
   ]
  },
  {
   "cell_type": "code",
   "execution_count": 166,
   "id": "0e35151b-456a-4201-ace1-ecf2fbeb63ec",
   "metadata": {},
   "outputs": [
    {
     "name": "stdout",
     "output_type": "stream",
     "text": [
      "<class 'pandas.core.frame.DataFrame'>\n",
      "RangeIndex: 495 entries, 0 to 494\n",
      "Data columns (total 7 columns):\n",
      " #   Column        Non-Null Count  Dtype         \n",
      "---  ------        --------------  -----         \n",
      " 0   user_id       495 non-null    object        \n",
      " 1   active        495 non-null    bool          \n",
      " 2   createdDate   495 non-null    datetime64[ns]\n",
      " 3   lastLogin     433 non-null    datetime64[ns]\n",
      " 4   role          495 non-null    object        \n",
      " 5   signUpSource  447 non-null    object        \n",
      " 6   state         439 non-null    object        \n",
      "dtypes: bool(1), datetime64[ns](2), object(4)\n",
      "memory usage: 23.8+ KB\n"
     ]
    }
   ],
   "source": [
    "users_df.info()"
   ]
  },
  {
   "cell_type": "code",
   "execution_count": 170,
   "id": "fc8f4498-99c3-45fd-ae0f-30bbdcaa18e3",
   "metadata": {},
   "outputs": [
    {
     "data": {
      "text/plain": [
       "user_id                 object\n",
       "active                    bool\n",
       "createdDate     datetime64[ns]\n",
       "lastLogin       datetime64[ns]\n",
       "role                    object\n",
       "signUpSource            object\n",
       "state                   object\n",
       "dtype: object"
      ]
     },
     "execution_count": 170,
     "metadata": {},
     "output_type": "execute_result"
    }
   ],
   "source": [
    "users_df.dtypes"
   ]
  },
  {
   "cell_type": "code",
   "execution_count": 174,
   "id": "7741f1c4-3c57-48c7-b7d1-2a394bcfcb12",
   "metadata": {},
   "outputs": [
    {
     "name": "stdout",
     "output_type": "stream",
     "text": [
      "user_id\n",
      "54943462e4b07e684157a532    20\n",
      "5fc961c3b8cfca11a077dd33    20\n",
      "5ff5d15aeb7c7d12096d91a2    18\n",
      "5fa41775898c7a11a6bcef3e    18\n",
      "59c124bae4b0299e55b0f330    18\n",
      "Name: count, dtype: int64\n",
      "active\n",
      "True     494\n",
      "False      1\n",
      "Name: count, dtype: int64\n",
      "createdDate\n",
      "2014-12-19 14:21:22.381    20\n",
      "2020-12-03 22:08:03.936    20\n",
      "2021-01-06 15:03:54.680    18\n",
      "2020-11-05 15:17:09.396    18\n",
      "2017-09-19 14:07:54.302    18\n",
      "Name: count, dtype: int64\n",
      "lastLogin\n",
      "2021-03-05 16:52:23.204    20\n",
      "2021-02-26 22:39:16.799    20\n",
      "2021-01-06 15:08:10.009    18\n",
      "2021-03-04 16:02:02.026    18\n",
      "2021-02-08 16:42:58.117    18\n",
      "Name: count, dtype: int64\n",
      "role\n",
      "consumer       413\n",
      "fetch-staff     82\n",
      "Name: count, dtype: int64\n",
      "signUpSource\n",
      "Email     443\n",
      "Google      4\n",
      "Name: count, dtype: int64\n",
      "state\n",
      "WI    396\n",
      "NH     20\n",
      "AL     12\n",
      "OH      5\n",
      "IL      3\n",
      "Name: count, dtype: int64\n"
     ]
    }
   ],
   "source": [
    "for col in users_df.columns: \n",
    "    print(users_df[col].value_counts().head())"
   ]
  },
  {
   "cell_type": "markdown",
   "id": "625526f6-f58c-4019-8db1-87061e9da9c5",
   "metadata": {},
   "source": [
    "* It appears we have several records with repeating user_id   "
   ]
  },
  {
   "cell_type": "code",
   "execution_count": 183,
   "id": "5a0aae3c-a7be-42a6-8e7e-8858c8776ad6",
   "metadata": {},
   "outputs": [
    {
     "name": "stdout",
     "output_type": "stream",
     "text": [
      "user_id\n",
      "212\n",
      "active\n",
      "2\n",
      "createdDate\n",
      "212\n",
      "lastLogin\n",
      "172\n",
      "role\n",
      "2\n",
      "signUpSource\n",
      "2\n",
      "state\n",
      "8\n"
     ]
    }
   ],
   "source": [
    "for col in users_df.columns:  \n",
    "    print(col)\n",
    "    print(users_df[col].nunique())"
   ]
  },
  {
   "cell_type": "markdown",
   "id": "f4b86087-3bf3-468f-9c52-518511d6c0c3",
   "metadata": {},
   "source": [
    "* This table should only contain one record per user, we will deduplicate based on user_id ;  \n",
    "* This table also does not appear to monitor changes in state (i.e. when a user was deactivated or reactivated); this allows us to safely deduplicate these records"
   ]
  },
  {
   "cell_type": "code",
   "execution_count": 190,
   "id": "82ec129d-f61e-42a6-bc3b-58cf2159b916",
   "metadata": {},
   "outputs": [],
   "source": [
    "users_df = users_df.drop_duplicates()"
   ]
  },
  {
   "cell_type": "code",
   "execution_count": 192,
   "id": "fc0b9141-9c7d-4722-bcaa-ff8dd14bca7e",
   "metadata": {},
   "outputs": [
    {
     "name": "stdout",
     "output_type": "stream",
     "text": [
      "<class 'pandas.core.frame.DataFrame'>\n",
      "Index: 212 entries, 0 to 475\n",
      "Data columns (total 7 columns):\n",
      " #   Column        Non-Null Count  Dtype         \n",
      "---  ------        --------------  -----         \n",
      " 0   user_id       212 non-null    object        \n",
      " 1   active        212 non-null    bool          \n",
      " 2   createdDate   212 non-null    datetime64[ns]\n",
      " 3   lastLogin     172 non-null    datetime64[ns]\n",
      " 4   role          212 non-null    object        \n",
      " 5   signUpSource  207 non-null    object        \n",
      " 6   state         206 non-null    object        \n",
      "dtypes: bool(1), datetime64[ns](2), object(4)\n",
      "memory usage: 11.8+ KB\n"
     ]
    }
   ],
   "source": [
    "users_df.info()"
   ]
  },
  {
   "cell_type": "code",
   "execution_count": 194,
   "id": "b38840af-f0fd-4b37-94b1-c62bd893f19c",
   "metadata": {},
   "outputs": [
    {
     "name": "stdout",
     "output_type": "stream",
     "text": [
      "user_id\n",
      "212\n",
      "active\n",
      "2\n",
      "createdDate\n",
      "212\n",
      "lastLogin\n",
      "172\n",
      "role\n",
      "2\n",
      "signUpSource\n",
      "2\n",
      "state\n",
      "8\n"
     ]
    }
   ],
   "source": [
    "for col in users_df.columns:  \n",
    "    print(col)\n",
    "    print(users_df[col].nunique())"
   ]
  },
  {
   "cell_type": "markdown",
   "id": "6bab3fa2-40f8-498d-9750-2bde77919a94",
   "metadata": {},
   "source": [
    "* Let's quickly take a look at when these users signed up and last logged in (we'll use a histogram to quickly visualize this): "
   ]
  },
  {
   "cell_type": "code",
   "execution_count": 215,
   "id": "4fa5464f-2979-447f-90bf-969763a9e8e1",
   "metadata": {},
   "outputs": [
    {
     "data": {
      "text/plain": [
       "<Axes: title={'center': 'Occurrences per Month-Year'}, xlabel='month_year'>"
      ]
     },
     "execution_count": 215,
     "metadata": {},
     "output_type": "execute_result"
    },
    {
     "data": {
      "image/png": "[encoded data removed]",
      "text/plain": [
       "<Figure size 800x500 with 1 Axes>"
      ]
     },
     "metadata": {},
     "output_type": "display_data"
    }
   ],
   "source": [
    "users_df['month_year'] = users_df['createdDate'].dt.to_period('M')  \n",
    "users_df['month_year'].value_counts().sort_index().plot(kind='bar', figsize=(8, 5), rot=45, title=\"Occurrences per Month-Year\")"
   ]
  },
  {
   "cell_type": "code",
   "execution_count": 217,
   "id": "ded70099-9201-4a8d-a4d7-8088628c5231",
   "metadata": {},
   "outputs": [
    {
     "data": {
      "text/plain": [
       "<Axes: title={'center': 'Occurrences per Month-Year'}, xlabel='month_year'>"
      ]
     },
     "execution_count": 217,
     "metadata": {},
     "output_type": "execute_result"
    },
    {
     "data": {
      "image/png": "[encoded data removed]",
      "text/plain": [
       "<Figure size 800x500 with 1 Axes>"
      ]
     },
     "metadata": {},
     "output_type": "display_data"
    }
   ],
   "source": [
    "users_df['month_year'] = users_df['lastLogin'].dt.to_period('M')  \n",
    "users_df['month_year'].value_counts().sort_index().plot(kind='bar', figsize=(8, 5), rot=45, title=\"Occurrences per Month-Year\")"
   ]
  },
  {
   "cell_type": "markdown",
   "id": "1b78500c-15be-4311-9aa5-70e69a1d6cc3",
   "metadata": {},
   "source": [
    "* The majority of the users created an account in Jan 2021, and last used the app then;  \n",
    "* This data (when collected over a longer period of time) can be useful to look at churn and retention"
   ]
  },
  {
   "cell_type": "markdown",
   "id": "e56a6692-e8fe-4816-858b-3080a5f5edae",
   "metadata": {},
   "source": [
    "## Receipts Table"
   ]
  },
  {
   "cell_type": "code",
   "execution_count": 227,
   "id": "03f2fedd-24e4-4953-a667-6d77741ed240",
   "metadata": {},
   "outputs": [],
   "source": [
    "receipts_file_path = 'data/receipts.json'\n",
    "receipts_raw = pd.read_json(receipts_file_path, lines=True)"
   ]
  },
  {
   "cell_type": "code",
   "execution_count": 229,
   "id": "7f2e2a09-3321-40b3-a56d-087d625d02d0",
   "metadata": {},
   "outputs": [
    {
     "data": {
      "text/html": [
       "<div>\n",
       "<style scoped>\n",
       "    .dataframe tbody tr th:only-of-type {\n",
       "        vertical-align: middle;\n",
       "    }\n",
       "\n",
       "    .dataframe tbody tr th {\n",
       "        vertical-align: top;\n",
       "    }\n",
       "\n",
       "    .dataframe thead th {\n",
       "        text-align: right;\n",
       "    }\n",
       "</style>\n",
       "<table border=\"1\" class=\"dataframe\">\n",
       "  <thead>\n",
       "    <tr style=\"text-align: right;\">\n",
       "      <th></th>\n",
       "      <th>_id</th>\n",
       "      <th>bonusPointsEarned</th>\n",
       "      <th>bonusPointsEarnedReason</th>\n",
       "      <th>createDate</th>\n",
       "      <th>dateScanned</th>\n",
       "      <th>finishedDate</th>\n",
       "      <th>modifyDate</th>\n",
       "      <th>pointsAwardedDate</th>\n",
       "      <th>pointsEarned</th>\n",
       "      <th>purchaseDate</th>\n",
       "      <th>purchasedItemCount</th>\n",
       "      <th>rewardsReceiptItemList</th>\n",
       "      <th>rewardsReceiptStatus</th>\n",
       "      <th>totalSpent</th>\n",
       "      <th>userId</th>\n",
       "    </tr>\n",
       "  </thead>\n",
       "  <tbody>\n",
       "    <tr>\n",
       "      <th>0</th>\n",
       "      <td>{'$oid': '5ff1e1eb0a720f0523000575'}</td>\n",
       "      <td>500.0</td>\n",
       "      <td>Receipt number 2 completed, bonus point schedu...</td>\n",
       "      <td>{'$date': 1609687531000}</td>\n",
       "      <td>{'$date': 1609687531000}</td>\n",
       "      <td>{'$date': 1609687531000}</td>\n",
       "      <td>{'$date': 1609687536000}</td>\n",
       "      <td>{'$date': 1609687531000}</td>\n",
       "      <td>500.0</td>\n",
       "      <td>{'$date': 1609632000000}</td>\n",
       "      <td>5.0</td>\n",
       "      <td>[{'barcode': '4011', 'description': 'ITEM NOT ...</td>\n",
       "      <td>FINISHED</td>\n",
       "      <td>26.0</td>\n",
       "      <td>5ff1e1eacfcf6c399c274ae6</td>\n",
       "    </tr>\n",
       "    <tr>\n",
       "      <th>1</th>\n",
       "      <td>{'$oid': '5ff1e1bb0a720f052300056b'}</td>\n",
       "      <td>150.0</td>\n",
       "      <td>Receipt number 5 completed, bonus point schedu...</td>\n",
       "      <td>{'$date': 1609687483000}</td>\n",
       "      <td>{'$date': 1609687483000}</td>\n",
       "      <td>{'$date': 1609687483000}</td>\n",
       "      <td>{'$date': 1609687488000}</td>\n",
       "      <td>{'$date': 1609687483000}</td>\n",
       "      <td>150.0</td>\n",
       "      <td>{'$date': 1609601083000}</td>\n",
       "      <td>2.0</td>\n",
       "      <td>[{'barcode': '4011', 'description': 'ITEM NOT ...</td>\n",
       "      <td>FINISHED</td>\n",
       "      <td>11.0</td>\n",
       "      <td>5ff1e194b6a9d73a3a9f1052</td>\n",
       "    </tr>\n",
       "    <tr>\n",
       "      <th>2</th>\n",
       "      <td>{'$oid': '5ff1e1f10a720f052300057a'}</td>\n",
       "      <td>5.0</td>\n",
       "      <td>All-receipts receipt bonus</td>\n",
       "      <td>{'$date': 1609687537000}</td>\n",
       "      <td>{'$date': 1609687537000}</td>\n",
       "      <td>NaN</td>\n",
       "      <td>{'$date': 1609687542000}</td>\n",
       "      <td>NaN</td>\n",
       "      <td>5.0</td>\n",
       "      <td>{'$date': 1609632000000}</td>\n",
       "      <td>1.0</td>\n",
       "      <td>[{'needsFetchReview': False, 'partnerItemId': ...</td>\n",
       "      <td>REJECTED</td>\n",
       "      <td>10.0</td>\n",
       "      <td>5ff1e1f1cfcf6c399c274b0b</td>\n",
       "    </tr>\n",
       "    <tr>\n",
       "      <th>3</th>\n",
       "      <td>{'$oid': '5ff1e1ee0a7214ada100056f'}</td>\n",
       "      <td>5.0</td>\n",
       "      <td>All-receipts receipt bonus</td>\n",
       "      <td>{'$date': 1609687534000}</td>\n",
       "      <td>{'$date': 1609687534000}</td>\n",
       "      <td>{'$date': 1609687534000}</td>\n",
       "      <td>{'$date': 1609687539000}</td>\n",
       "      <td>{'$date': 1609687534000}</td>\n",
       "      <td>5.0</td>\n",
       "      <td>{'$date': 1609632000000}</td>\n",
       "      <td>4.0</td>\n",
       "      <td>[{'barcode': '4011', 'description': 'ITEM NOT ...</td>\n",
       "      <td>FINISHED</td>\n",
       "      <td>28.0</td>\n",
       "      <td>5ff1e1eacfcf6c399c274ae6</td>\n",
       "    </tr>\n",
       "    <tr>\n",
       "      <th>4</th>\n",
       "      <td>{'$oid': '5ff1e1d20a7214ada1000561'}</td>\n",
       "      <td>5.0</td>\n",
       "      <td>All-receipts receipt bonus</td>\n",
       "      <td>{'$date': 1609687506000}</td>\n",
       "      <td>{'$date': 1609687506000}</td>\n",
       "      <td>{'$date': 1609687511000}</td>\n",
       "      <td>{'$date': 1609687511000}</td>\n",
       "      <td>{'$date': 1609687506000}</td>\n",
       "      <td>5.0</td>\n",
       "      <td>{'$date': 1609601106000}</td>\n",
       "      <td>2.0</td>\n",
       "      <td>[{'barcode': '4011', 'description': 'ITEM NOT ...</td>\n",
       "      <td>FINISHED</td>\n",
       "      <td>1.0</td>\n",
       "      <td>5ff1e194b6a9d73a3a9f1052</td>\n",
       "    </tr>\n",
       "  </tbody>\n",
       "</table>\n",
       "</div>"
      ],
      "text/plain": [
       "                                    _id  bonusPointsEarned  \\\n",
       "0  {'$oid': '5ff1e1eb0a720f0523000575'}              500.0   \n",
       "1  {'$oid': '5ff1e1bb0a720f052300056b'}              150.0   \n",
       "2  {'$oid': '5ff1e1f10a720f052300057a'}                5.0   \n",
       "3  {'$oid': '5ff1e1ee0a7214ada100056f'}                5.0   \n",
       "4  {'$oid': '5ff1e1d20a7214ada1000561'}                5.0   \n",
       "\n",
       "                             bonusPointsEarnedReason  \\\n",
       "0  Receipt number 2 completed, bonus point schedu...   \n",
       "1  Receipt number 5 completed, bonus point schedu...   \n",
       "2                         All-receipts receipt bonus   \n",
       "3                         All-receipts receipt bonus   \n",
       "4                         All-receipts receipt bonus   \n",
       "\n",
       "                 createDate               dateScanned  \\\n",
       "0  {'$date': 1609687531000}  {'$date': 1609687531000}   \n",
       "1  {'$date': 1609687483000}  {'$date': 1609687483000}   \n",
       "2  {'$date': 1609687537000}  {'$date': 1609687537000}   \n",
       "3  {'$date': 1609687534000}  {'$date': 1609687534000}   \n",
       "4  {'$date': 1609687506000}  {'$date': 1609687506000}   \n",
       "\n",
       "               finishedDate                modifyDate  \\\n",
       "0  {'$date': 1609687531000}  {'$date': 1609687536000}   \n",
       "1  {'$date': 1609687483000}  {'$date': 1609687488000}   \n",
       "2                       NaN  {'$date': 1609687542000}   \n",
       "3  {'$date': 1609687534000}  {'$date': 1609687539000}   \n",
       "4  {'$date': 1609687511000}  {'$date': 1609687511000}   \n",
       "\n",
       "          pointsAwardedDate  pointsEarned              purchaseDate  \\\n",
       "0  {'$date': 1609687531000}         500.0  {'$date': 1609632000000}   \n",
       "1  {'$date': 1609687483000}         150.0  {'$date': 1609601083000}   \n",
       "2                       NaN           5.0  {'$date': 1609632000000}   \n",
       "3  {'$date': 1609687534000}           5.0  {'$date': 1609632000000}   \n",
       "4  {'$date': 1609687506000}           5.0  {'$date': 1609601106000}   \n",
       "\n",
       "   purchasedItemCount                             rewardsReceiptItemList  \\\n",
       "0                 5.0  [{'barcode': '4011', 'description': 'ITEM NOT ...   \n",
       "1                 2.0  [{'barcode': '4011', 'description': 'ITEM NOT ...   \n",
       "2                 1.0  [{'needsFetchReview': False, 'partnerItemId': ...   \n",
       "3                 4.0  [{'barcode': '4011', 'description': 'ITEM NOT ...   \n",
       "4                 2.0  [{'barcode': '4011', 'description': 'ITEM NOT ...   \n",
       "\n",
       "  rewardsReceiptStatus  totalSpent                    userId  \n",
       "0             FINISHED        26.0  5ff1e1eacfcf6c399c274ae6  \n",
       "1             FINISHED        11.0  5ff1e194b6a9d73a3a9f1052  \n",
       "2             REJECTED        10.0  5ff1e1f1cfcf6c399c274b0b  \n",
       "3             FINISHED        28.0  5ff1e1eacfcf6c399c274ae6  \n",
       "4             FINISHED         1.0  5ff1e194b6a9d73a3a9f1052  "
      ]
     },
     "execution_count": 229,
     "metadata": {},
     "output_type": "execute_result"
    }
   ],
   "source": [
    "receipts_raw.head()"
   ]
  },
  {
   "cell_type": "code",
   "execution_count": 387,
   "id": "ec1161e2-f394-4482-9dca-1a959fbeedc5",
   "metadata": {},
   "outputs": [],
   "source": [
    "receipts_df = receipts_raw.copy()"
   ]
  },
  {
   "cell_type": "code",
   "execution_count": 389,
   "id": "a0f24752-d09f-4b78-9069-1286d97662d6",
   "metadata": {},
   "outputs": [],
   "source": [
    "date_fields = ['createDate', 'dateScanned', 'finishedDate', 'modifyDate', 'pointsAwardedDate', 'purchaseDate']\n",
    "for field in date_fields:\n",
    "    receipts_df[field] = receipts_df[field].apply(\n",
    "        lambda x: pd.to_datetime(x.get('$date', None), unit='ms') if isinstance(x, dict) else None\n",
    "    )\n",
    "\n",
    "receipts_df['_id'] = receipts_df['_id'].apply(lambda x: x.get('$oid', None) if isinstance(x, dict) else None)\n",
    "receipts_df.rename(columns={'_id': 'receipt_id'}, inplace=True)"
   ]
  },
  {
   "cell_type": "code",
   "execution_count": 391,
   "id": "eebb5d50-d923-4e45-9385-5e36228aa71d",
   "metadata": {},
   "outputs": [
    {
     "data": {
      "text/html": [
       "<div>\n",
       "<style scoped>\n",
       "    .dataframe tbody tr th:only-of-type {\n",
       "        vertical-align: middle;\n",
       "    }\n",
       "\n",
       "    .dataframe tbody tr th {\n",
       "        vertical-align: top;\n",
       "    }\n",
       "\n",
       "    .dataframe thead th {\n",
       "        text-align: right;\n",
       "    }\n",
       "</style>\n",
       "<table border=\"1\" class=\"dataframe\">\n",
       "  <thead>\n",
       "    <tr style=\"text-align: right;\">\n",
       "      <th></th>\n",
       "      <th>receipt_id</th>\n",
       "      <th>bonusPointsEarned</th>\n",
       "      <th>bonusPointsEarnedReason</th>\n",
       "      <th>createDate</th>\n",
       "      <th>dateScanned</th>\n",
       "      <th>finishedDate</th>\n",
       "      <th>modifyDate</th>\n",
       "      <th>pointsAwardedDate</th>\n",
       "      <th>pointsEarned</th>\n",
       "      <th>purchaseDate</th>\n",
       "      <th>purchasedItemCount</th>\n",
       "      <th>rewardsReceiptItemList</th>\n",
       "      <th>rewardsReceiptStatus</th>\n",
       "      <th>totalSpent</th>\n",
       "      <th>userId</th>\n",
       "    </tr>\n",
       "  </thead>\n",
       "  <tbody>\n",
       "    <tr>\n",
       "      <th>0</th>\n",
       "      <td>5ff1e1eb0a720f0523000575</td>\n",
       "      <td>500.0</td>\n",
       "      <td>Receipt number 2 completed, bonus point schedu...</td>\n",
       "      <td>2021-01-03 15:25:31</td>\n",
       "      <td>2021-01-03 15:25:31</td>\n",
       "      <td>2021-01-03 15:25:31</td>\n",
       "      <td>2021-01-03 15:25:36</td>\n",
       "      <td>2021-01-03 15:25:31</td>\n",
       "      <td>500.0</td>\n",
       "      <td>2021-01-03 00:00:00</td>\n",
       "      <td>5.0</td>\n",
       "      <td>[{'barcode': '4011', 'description': 'ITEM NOT ...</td>\n",
       "      <td>FINISHED</td>\n",
       "      <td>26.0</td>\n",
       "      <td>5ff1e1eacfcf6c399c274ae6</td>\n",
       "    </tr>\n",
       "    <tr>\n",
       "      <th>1</th>\n",
       "      <td>5ff1e1bb0a720f052300056b</td>\n",
       "      <td>150.0</td>\n",
       "      <td>Receipt number 5 completed, bonus point schedu...</td>\n",
       "      <td>2021-01-03 15:24:43</td>\n",
       "      <td>2021-01-03 15:24:43</td>\n",
       "      <td>2021-01-03 15:24:43</td>\n",
       "      <td>2021-01-03 15:24:48</td>\n",
       "      <td>2021-01-03 15:24:43</td>\n",
       "      <td>150.0</td>\n",
       "      <td>2021-01-02 15:24:43</td>\n",
       "      <td>2.0</td>\n",
       "      <td>[{'barcode': '4011', 'description': 'ITEM NOT ...</td>\n",
       "      <td>FINISHED</td>\n",
       "      <td>11.0</td>\n",
       "      <td>5ff1e194b6a9d73a3a9f1052</td>\n",
       "    </tr>\n",
       "    <tr>\n",
       "      <th>2</th>\n",
       "      <td>5ff1e1f10a720f052300057a</td>\n",
       "      <td>5.0</td>\n",
       "      <td>All-receipts receipt bonus</td>\n",
       "      <td>2021-01-03 15:25:37</td>\n",
       "      <td>2021-01-03 15:25:37</td>\n",
       "      <td>NaT</td>\n",
       "      <td>2021-01-03 15:25:42</td>\n",
       "      <td>NaT</td>\n",
       "      <td>5.0</td>\n",
       "      <td>2021-01-03 00:00:00</td>\n",
       "      <td>1.0</td>\n",
       "      <td>[{'needsFetchReview': False, 'partnerItemId': ...</td>\n",
       "      <td>REJECTED</td>\n",
       "      <td>10.0</td>\n",
       "      <td>5ff1e1f1cfcf6c399c274b0b</td>\n",
       "    </tr>\n",
       "    <tr>\n",
       "      <th>3</th>\n",
       "      <td>5ff1e1ee0a7214ada100056f</td>\n",
       "      <td>5.0</td>\n",
       "      <td>All-receipts receipt bonus</td>\n",
       "      <td>2021-01-03 15:25:34</td>\n",
       "      <td>2021-01-03 15:25:34</td>\n",
       "      <td>2021-01-03 15:25:34</td>\n",
       "      <td>2021-01-03 15:25:39</td>\n",
       "      <td>2021-01-03 15:25:34</td>\n",
       "      <td>5.0</td>\n",
       "      <td>2021-01-03 00:00:00</td>\n",
       "      <td>4.0</td>\n",
       "      <td>[{'barcode': '4011', 'description': 'ITEM NOT ...</td>\n",
       "      <td>FINISHED</td>\n",
       "      <td>28.0</td>\n",
       "      <td>5ff1e1eacfcf6c399c274ae6</td>\n",
       "    </tr>\n",
       "    <tr>\n",
       "      <th>4</th>\n",
       "      <td>5ff1e1d20a7214ada1000561</td>\n",
       "      <td>5.0</td>\n",
       "      <td>All-receipts receipt bonus</td>\n",
       "      <td>2021-01-03 15:25:06</td>\n",
       "      <td>2021-01-03 15:25:06</td>\n",
       "      <td>2021-01-03 15:25:11</td>\n",
       "      <td>2021-01-03 15:25:11</td>\n",
       "      <td>2021-01-03 15:25:06</td>\n",
       "      <td>5.0</td>\n",
       "      <td>2021-01-02 15:25:06</td>\n",
       "      <td>2.0</td>\n",
       "      <td>[{'barcode': '4011', 'description': 'ITEM NOT ...</td>\n",
       "      <td>FINISHED</td>\n",
       "      <td>1.0</td>\n",
       "      <td>5ff1e194b6a9d73a3a9f1052</td>\n",
       "    </tr>\n",
       "  </tbody>\n",
       "</table>\n",
       "</div>"
      ],
      "text/plain": [
       "                 receipt_id  bonusPointsEarned  \\\n",
       "0  5ff1e1eb0a720f0523000575              500.0   \n",
       "1  5ff1e1bb0a720f052300056b              150.0   \n",
       "2  5ff1e1f10a720f052300057a                5.0   \n",
       "3  5ff1e1ee0a7214ada100056f                5.0   \n",
       "4  5ff1e1d20a7214ada1000561                5.0   \n",
       "\n",
       "                             bonusPointsEarnedReason          createDate  \\\n",
       "0  Receipt number 2 completed, bonus point schedu... 2021-01-03 15:25:31   \n",
       "1  Receipt number 5 completed, bonus point schedu... 2021-01-03 15:24:43   \n",
       "2                         All-receipts receipt bonus 2021-01-03 15:25:37   \n",
       "3                         All-receipts receipt bonus 2021-01-03 15:25:34   \n",
       "4                         All-receipts receipt bonus 2021-01-03 15:25:06   \n",
       "\n",
       "          dateScanned        finishedDate          modifyDate  \\\n",
       "0 2021-01-03 15:25:31 2021-01-03 15:25:31 2021-01-03 15:25:36   \n",
       "1 2021-01-03 15:24:43 2021-01-03 15:24:43 2021-01-03 15:24:48   \n",
       "2 2021-01-03 15:25:37                 NaT 2021-01-03 15:25:42   \n",
       "3 2021-01-03 15:25:34 2021-01-03 15:25:34 2021-01-03 15:25:39   \n",
       "4 2021-01-03 15:25:06 2021-01-03 15:25:11 2021-01-03 15:25:11   \n",
       "\n",
       "    pointsAwardedDate  pointsEarned        purchaseDate  purchasedItemCount  \\\n",
       "0 2021-01-03 15:25:31         500.0 2021-01-03 00:00:00                 5.0   \n",
       "1 2021-01-03 15:24:43         150.0 2021-01-02 15:24:43                 2.0   \n",
       "2                 NaT           5.0 2021-01-03 00:00:00                 1.0   \n",
       "3 2021-01-03 15:25:34           5.0 2021-01-03 00:00:00                 4.0   \n",
       "4 2021-01-03 15:25:06           5.0 2021-01-02 15:25:06                 2.0   \n",
       "\n",
       "                              rewardsReceiptItemList rewardsReceiptStatus  \\\n",
       "0  [{'barcode': '4011', 'description': 'ITEM NOT ...             FINISHED   \n",
       "1  [{'barcode': '4011', 'description': 'ITEM NOT ...             FINISHED   \n",
       "2  [{'needsFetchReview': False, 'partnerItemId': ...             REJECTED   \n",
       "3  [{'barcode': '4011', 'description': 'ITEM NOT ...             FINISHED   \n",
       "4  [{'barcode': '4011', 'description': 'ITEM NOT ...             FINISHED   \n",
       "\n",
       "   totalSpent                    userId  \n",
       "0        26.0  5ff1e1eacfcf6c399c274ae6  \n",
       "1        11.0  5ff1e194b6a9d73a3a9f1052  \n",
       "2        10.0  5ff1e1f1cfcf6c399c274b0b  \n",
       "3        28.0  5ff1e1eacfcf6c399c274ae6  \n",
       "4         1.0  5ff1e194b6a9d73a3a9f1052  "
      ]
     },
     "execution_count": 391,
     "metadata": {},
     "output_type": "execute_result"
    }
   ],
   "source": [
    "receipts_df.head()"
   ]
  },
  {
   "cell_type": "code",
   "execution_count": 393,
   "id": "6ca9e10b-23f0-47b4-b813-4c000b724ae6",
   "metadata": {},
   "outputs": [
    {
     "name": "stdout",
     "output_type": "stream",
     "text": [
      "<class 'pandas.core.frame.DataFrame'>\n",
      "RangeIndex: 1119 entries, 0 to 1118\n",
      "Data columns (total 15 columns):\n",
      " #   Column                   Non-Null Count  Dtype         \n",
      "---  ------                   --------------  -----         \n",
      " 0   receipt_id               1119 non-null   object        \n",
      " 1   bonusPointsEarned        544 non-null    float64       \n",
      " 2   bonusPointsEarnedReason  544 non-null    object        \n",
      " 3   createDate               1119 non-null   datetime64[ns]\n",
      " 4   dateScanned              1119 non-null   datetime64[ns]\n",
      " 5   finishedDate             568 non-null    datetime64[ns]\n",
      " 6   modifyDate               1119 non-null   datetime64[ns]\n",
      " 7   pointsAwardedDate        537 non-null    datetime64[ns]\n",
      " 8   pointsEarned             609 non-null    float64       \n",
      " 9   purchaseDate             671 non-null    datetime64[ns]\n",
      " 10  purchasedItemCount       635 non-null    float64       \n",
      " 11  rewardsReceiptItemList   679 non-null    object        \n",
      " 12  rewardsReceiptStatus     1119 non-null   object        \n",
      " 13  totalSpent               684 non-null    float64       \n",
      " 14  userId                   1119 non-null   object        \n",
      "dtypes: datetime64[ns](6), float64(4), object(5)\n",
      "memory usage: 131.3+ KB\n"
     ]
    }
   ],
   "source": [
    "receipts_df.info()"
   ]
  },
  {
   "cell_type": "markdown",
   "id": "45e44681-9726-4364-9cb3-d8b833c2ccf9",
   "metadata": {},
   "source": [
    "* Since we deal with the nested field rewardsReceiptItemList as a seperate table so it is dropped from this discussion"
   ]
  },
  {
   "cell_type": "code",
   "execution_count": 396,
   "id": "20559cf0-3ba8-48c8-87c5-7b518ae7b2d4",
   "metadata": {},
   "outputs": [],
   "source": [
    "receipts_df.drop(columns='rewardsReceiptItemList',inplace=True)"
   ]
  },
  {
   "cell_type": "code",
   "execution_count": 259,
   "id": "6b30740a-9adc-44d5-aa74-876660642786",
   "metadata": {},
   "outputs": [
    {
     "data": {
      "text/plain": [
       "<Axes: >"
      ]
     },
     "execution_count": 259,
     "metadata": {},
     "output_type": "execute_result"
    },
    {
     "data": {
      "image/png": "[encoded data removed]",
      "text/plain": [
       "<Figure size 640x480 with 1 Axes>"
      ]
     },
     "metadata": {},
     "output_type": "display_data"
    }
   ],
   "source": [
    "receipts_df.totalSpent.hist(bins=100)"
   ]
  },
  {
   "cell_type": "code",
   "execution_count": 265,
   "id": "4ab8d0e5-07a7-4b0b-a099-822bf6e0ba43",
   "metadata": {},
   "outputs": [
    {
     "data": {
      "text/plain": [
       "count     684.000000\n",
       "mean       77.796857\n",
       "std       347.110349\n",
       "min         0.000000\n",
       "25%         1.000000\n",
       "50%        18.200000\n",
       "75%        34.960000\n",
       "max      4721.950000\n",
       "Name: totalSpent, dtype: float64"
      ]
     },
     "execution_count": 265,
     "metadata": {},
     "output_type": "execute_result"
    }
   ],
   "source": [
    "receipts_df.totalSpent.describe()"
   ]
  },
  {
   "cell_type": "code",
   "execution_count": 269,
   "id": "cea280a1-76ef-4e00-a4dc-89439f40f85a",
   "metadata": {},
   "outputs": [
    {
     "data": {
      "text/plain": [
       "18.2"
      ]
     },
     "execution_count": 269,
     "metadata": {},
     "output_type": "execute_result"
    }
   ],
   "source": [
    "receipts_df.totalSpent.median()"
   ]
  },
  {
   "cell_type": "code",
   "execution_count": 267,
   "id": "b32f0ab7-ca21-4440-8a99-f65d7e9587de",
   "metadata": {},
   "outputs": [
    {
     "data": {
      "text/plain": [
       "count    635.00000\n",
       "mean      14.75748\n",
       "std       61.13424\n",
       "min        0.00000\n",
       "25%        1.00000\n",
       "50%        2.00000\n",
       "75%        5.00000\n",
       "max      689.00000\n",
       "Name: purchasedItemCount, dtype: float64"
      ]
     },
     "execution_count": 267,
     "metadata": {},
     "output_type": "execute_result"
    }
   ],
   "source": [
    "receipts_df.purchasedItemCount.describe()"
   ]
  },
  {
   "cell_type": "code",
   "execution_count": 271,
   "id": "619bde79-7896-4335-90fc-a431788d9d46",
   "metadata": {},
   "outputs": [
    {
     "data": {
      "text/plain": [
       "2.0"
      ]
     },
     "execution_count": 271,
     "metadata": {},
     "output_type": "execute_result"
    }
   ],
   "source": [
    "receipts_df.purchasedItemCount.median()"
   ]
  },
  {
   "cell_type": "code",
   "execution_count": 273,
   "id": "25c5f28b-a844-402b-8291-8ea117aad046",
   "metadata": {},
   "outputs": [
    {
     "data": {
      "text/html": [
       "<div>\n",
       "<style scoped>\n",
       "    .dataframe tbody tr th:only-of-type {\n",
       "        vertical-align: middle;\n",
       "    }\n",
       "\n",
       "    .dataframe tbody tr th {\n",
       "        vertical-align: top;\n",
       "    }\n",
       "\n",
       "    .dataframe thead th {\n",
       "        text-align: right;\n",
       "    }\n",
       "</style>\n",
       "<table border=\"1\" class=\"dataframe\">\n",
       "  <thead>\n",
       "    <tr style=\"text-align: right;\">\n",
       "      <th></th>\n",
       "      <th>receipt_id</th>\n",
       "      <th>bonusPointsEarned</th>\n",
       "      <th>bonusPointsEarnedReason</th>\n",
       "      <th>createDate</th>\n",
       "      <th>dateScanned</th>\n",
       "      <th>finishedDate</th>\n",
       "      <th>modifyDate</th>\n",
       "      <th>pointsAwardedDate</th>\n",
       "      <th>pointsEarned</th>\n",
       "      <th>purchaseDate</th>\n",
       "      <th>purchasedItemCount</th>\n",
       "      <th>rewardsReceiptStatus</th>\n",
       "      <th>totalSpent</th>\n",
       "      <th>userId</th>\n",
       "    </tr>\n",
       "  </thead>\n",
       "  <tbody>\n",
       "    <tr>\n",
       "      <th>446</th>\n",
       "      <td>600f24970a720f053500002f</td>\n",
       "      <td>NaN</td>\n",
       "      <td>NaN</td>\n",
       "      <td>2021-01-25 20:05:43</td>\n",
       "      <td>2021-01-25 20:05:43</td>\n",
       "      <td>NaT</td>\n",
       "      <td>2021-01-25 20:25:25</td>\n",
       "      <td>NaT</td>\n",
       "      <td>NaN</td>\n",
       "      <td>2021-01-25</td>\n",
       "      <td>599.0</td>\n",
       "      <td>FLAGGED</td>\n",
       "      <td>4368.80</td>\n",
       "      <td>600f20c15edb787dce060911</td>\n",
       "    </tr>\n",
       "    <tr>\n",
       "      <th>469</th>\n",
       "      <td>600f39c30a7214ada2000030</td>\n",
       "      <td>750.0</td>\n",
       "      <td>Receipt number 1 completed, bonus point schedu...</td>\n",
       "      <td>2021-01-25 21:36:03</td>\n",
       "      <td>2021-01-25 21:36:03</td>\n",
       "      <td>2021-01-26 03:06:03</td>\n",
       "      <td>2021-01-26 03:07:40</td>\n",
       "      <td>2021-01-26 03:06:03</td>\n",
       "      <td>7137.2</td>\n",
       "      <td>2021-01-24</td>\n",
       "      <td>670.0</td>\n",
       "      <td>FINISHED</td>\n",
       "      <td>4721.95</td>\n",
       "      <td>600f35015edb782098e2ac1b</td>\n",
       "    </tr>\n",
       "    <tr>\n",
       "      <th>543</th>\n",
       "      <td>600f2fc80a720f0535000030</td>\n",
       "      <td>750.0</td>\n",
       "      <td>Receipt number 1 completed, bonus point schedu...</td>\n",
       "      <td>2021-01-25 20:53:28</td>\n",
       "      <td>2021-01-25 20:53:28</td>\n",
       "      <td>2021-01-25 22:04:23</td>\n",
       "      <td>2021-01-28 22:37:02</td>\n",
       "      <td>2021-01-25 22:04:23</td>\n",
       "      <td>4944.7</td>\n",
       "      <td>2021-01-24</td>\n",
       "      <td>689.0</td>\n",
       "      <td>FINISHED</td>\n",
       "      <td>4566.17</td>\n",
       "      <td>600f29a64329897eac239049</td>\n",
       "    </tr>\n",
       "  </tbody>\n",
       "</table>\n",
       "</div>"
      ],
      "text/plain": [
       "                   receipt_id  bonusPointsEarned  \\\n",
       "446  600f24970a720f053500002f                NaN   \n",
       "469  600f39c30a7214ada2000030              750.0   \n",
       "543  600f2fc80a720f0535000030              750.0   \n",
       "\n",
       "                               bonusPointsEarnedReason          createDate  \\\n",
       "446                                                NaN 2021-01-25 20:05:43   \n",
       "469  Receipt number 1 completed, bonus point schedu... 2021-01-25 21:36:03   \n",
       "543  Receipt number 1 completed, bonus point schedu... 2021-01-25 20:53:28   \n",
       "\n",
       "            dateScanned        finishedDate          modifyDate  \\\n",
       "446 2021-01-25 20:05:43                 NaT 2021-01-25 20:25:25   \n",
       "469 2021-01-25 21:36:03 2021-01-26 03:06:03 2021-01-26 03:07:40   \n",
       "543 2021-01-25 20:53:28 2021-01-25 22:04:23 2021-01-28 22:37:02   \n",
       "\n",
       "      pointsAwardedDate  pointsEarned purchaseDate  purchasedItemCount  \\\n",
       "446                 NaT           NaN   2021-01-25               599.0   \n",
       "469 2021-01-26 03:06:03        7137.2   2021-01-24               670.0   \n",
       "543 2021-01-25 22:04:23        4944.7   2021-01-24               689.0   \n",
       "\n",
       "    rewardsReceiptStatus  totalSpent                    userId  \n",
       "446              FLAGGED     4368.80  600f20c15edb787dce060911  \n",
       "469             FINISHED     4721.95  600f35015edb782098e2ac1b  \n",
       "543             FINISHED     4566.17  600f29a64329897eac239049  "
      ]
     },
     "execution_count": 273,
     "metadata": {},
     "output_type": "execute_result"
    }
   ],
   "source": [
    "receipts_df.query('purchasedItemCount > 500')"
   ]
  },
  {
   "cell_type": "markdown",
   "id": "ca2139f4-ded8-4b24-8c2c-5b8b96719d86",
   "metadata": {},
   "source": [
    "* Some data quality checks here would be to look at the outliers in $Spend or total quantity and comapre to the mean/median.  \n",
    "* We notice that there are some zero values which most likely suggests an error  \n",
    "* We notice that there are no negative values (another type of common data error)"
   ]
  },
  {
   "cell_type": "code",
   "execution_count": 280,
   "id": "1579329d-9431-4ca4-a8cd-3f4b8f2484c0",
   "metadata": {},
   "outputs": [
    {
     "data": {
      "text/plain": [
       "rewardsReceiptStatus\n",
       "FINISHED     518\n",
       "SUBMITTED    434\n",
       "REJECTED      71\n",
       "PENDING       50\n",
       "FLAGGED       46\n",
       "Name: count, dtype: int64"
      ]
     },
     "execution_count": 280,
     "metadata": {},
     "output_type": "execute_result"
    }
   ],
   "source": [
    "receipts_df.rewardsReceiptStatus.value_counts()"
   ]
  },
  {
   "cell_type": "markdown",
   "id": "9a03ade6-6c35-4a0c-b550-e1e26f2b2dc2",
   "metadata": {},
   "source": [
    "* This is related to question 3 & 4; this shows the pipeline from submittal to final approval;\n",
    "* It appears there is a \"Flagged\" mechanism (this presumably can occur form the user or admin)\n",
    "* Further analysis can be done to look at how long it normally takes for each receipt to transition through the approval flow\n",
    "  \n"
   ]
  },
  {
   "cell_type": "code",
   "execution_count": 288,
   "id": "753c3c90-dc7e-4e21-9236-2c12fbbfed73",
   "metadata": {},
   "outputs": [
    {
     "data": {
      "text/plain": [
       "<Axes: >"
      ]
     },
     "execution_count": 288,
     "metadata": {},
     "output_type": "execute_result"
    },
    {
     "data": {
      "image/png": "[encoded data removed]",
      "text/plain": [
       "<Figure size 640x480 with 1 Axes>"
      ]
     },
     "metadata": {},
     "output_type": "display_data"
    }
   ],
   "source": [
    "receipts_df.bonusPointsEarned.hist(bins=100)"
   ]
  },
  {
   "cell_type": "code",
   "execution_count": 290,
   "id": "b8611ce0-b26c-4298-811c-4eeaa481d87d",
   "metadata": {},
   "outputs": [
    {
     "data": {
      "text/plain": [
       "count    544.000000\n",
       "mean     238.893382\n",
       "std      299.091731\n",
       "min        5.000000\n",
       "25%        5.000000\n",
       "50%       45.000000\n",
       "75%      500.000000\n",
       "max      750.000000\n",
       "Name: bonusPointsEarned, dtype: float64"
      ]
     },
     "execution_count": 290,
     "metadata": {},
     "output_type": "execute_result"
    }
   ],
   "source": [
    "receipts_df.bonusPointsEarned.describe()"
   ]
  },
  {
   "cell_type": "code",
   "execution_count": 292,
   "id": "9303ffd6-12f6-4914-88bc-97f9cd80f240",
   "metadata": {},
   "outputs": [
    {
     "data": {
      "text/plain": [
       "bonusPointsEarnedReason\n",
       "All-receipts receipt bonus                                                             183\n",
       "Receipt number 1 completed, bonus point schedule DEFAULT (5cefdcacf3693e0b50e83a36)    119\n",
       "COMPLETE_NONPARTNER_RECEIPT                                                             71\n",
       "COMPLETE_PARTNER_RECEIPT                                                                39\n",
       "Receipt number 3 completed, bonus point schedule DEFAULT (5cefdcacf3693e0b50e83a36)     31\n",
       "Receipt number 2 completed, bonus point schedule DEFAULT (5cefdcacf3693e0b50e83a36)     30\n",
       "Receipt number 5 completed, bonus point schedule DEFAULT (5cefdcacf3693e0b50e83a36)     27\n",
       "Receipt number 4 completed, bonus point schedule DEFAULT (5cefdcacf3693e0b50e83a36)     26\n",
       "Receipt number 6 completed, bonus point schedule DEFAULT (5cefdcacf3693e0b50e83a36)     18\n",
       "Name: count, dtype: int64"
      ]
     },
     "execution_count": 292,
     "metadata": {},
     "output_type": "execute_result"
    }
   ],
   "source": [
    "receipts_df.bonusPointsEarnedReason.value_counts()"
   ]
  },
  {
   "cell_type": "markdown",
   "id": "692fd4d9-18b7-4325-b0ec-1f99bd7976df",
   "metadata": {},
   "source": [
    "## Items (derived from rewardsReceiptItemList)"
   ]
  },
  {
   "cell_type": "code",
   "execution_count": 381,
   "id": "aa9f8a16-4868-4387-986a-938675e55d5b",
   "metadata": {},
   "outputs": [],
   "source": [
    "receipts_file_path = \"data/receipts.json\"\n",
    "receipts = pd.read_json(receipts_file_path, lines=True)\n",
    "\n",
    "# Function to flatten nested `rewardsReceiptItemList` field\n",
    "def flatten_nested_field_to_rows(df, nested_field, id_column):\n",
    "    flattened_rows = []\n",
    "    for _, row in df.iterrows():\n",
    "        if isinstance(row[nested_field], list):\n",
    "            for item in row[nested_field]:\n",
    "                flattened_row = {id_column: row['_id'].get('$oid', None) if isinstance(row['_id'], dict) else None}\n",
    "                flattened_row.update(item)\n",
    "                flattened_rows.append(flattened_row)\n",
    "    return pd.DataFrame(flattened_rows) \n",
    "receipt_items_flattened = flatten_nested_field_to_rows(receipts, 'rewardsReceiptItemList', 'receipt_id')"
   ]
  },
  {
   "cell_type": "code",
   "execution_count": 383,
   "id": "7c004e14-4129-4b4c-a844-d2e3252abe04",
   "metadata": {},
   "outputs": [],
   "source": [
    "items = receipt_items_flattened.copy()"
   ]
  },
  {
   "cell_type": "code",
   "execution_count": 385,
   "id": "30c11b15-5761-41b2-a174-ea74d40bc6d4",
   "metadata": {},
   "outputs": [
    {
     "data": {
      "text/html": [
       "<div>\n",
       "<style scoped>\n",
       "    .dataframe tbody tr th:only-of-type {\n",
       "        vertical-align: middle;\n",
       "    }\n",
       "\n",
       "    .dataframe tbody tr th {\n",
       "        vertical-align: top;\n",
       "    }\n",
       "\n",
       "    .dataframe thead th {\n",
       "        text-align: right;\n",
       "    }\n",
       "</style>\n",
       "<table border=\"1\" class=\"dataframe\">\n",
       "  <thead>\n",
       "    <tr style=\"text-align: right;\">\n",
       "      <th></th>\n",
       "      <th>receipt_id</th>\n",
       "      <th>barcode</th>\n",
       "      <th>description</th>\n",
       "      <th>finalPrice</th>\n",
       "      <th>itemPrice</th>\n",
       "      <th>needsFetchReview</th>\n",
       "      <th>partnerItemId</th>\n",
       "      <th>preventTargetGapPoints</th>\n",
       "      <th>quantityPurchased</th>\n",
       "      <th>userFlaggedBarcode</th>\n",
       "      <th>...</th>\n",
       "      <th>itemNumber</th>\n",
       "      <th>originalMetaBriteQuantityPurchased</th>\n",
       "      <th>pointsEarned</th>\n",
       "      <th>targetPrice</th>\n",
       "      <th>competitiveProduct</th>\n",
       "      <th>originalFinalPrice</th>\n",
       "      <th>originalMetaBriteItemPrice</th>\n",
       "      <th>deleted</th>\n",
       "      <th>priceAfterCoupon</th>\n",
       "      <th>metabriteCampaignId</th>\n",
       "    </tr>\n",
       "  </thead>\n",
       "  <tbody>\n",
       "    <tr>\n",
       "      <th>0</th>\n",
       "      <td>5ff1e1eb0a720f0523000575</td>\n",
       "      <td>4011</td>\n",
       "      <td>ITEM NOT FOUND</td>\n",
       "      <td>26.00</td>\n",
       "      <td>26.00</td>\n",
       "      <td>False</td>\n",
       "      <td>1</td>\n",
       "      <td>True</td>\n",
       "      <td>5.0</td>\n",
       "      <td>4011</td>\n",
       "      <td>...</td>\n",
       "      <td>NaN</td>\n",
       "      <td>NaN</td>\n",
       "      <td>NaN</td>\n",
       "      <td>NaN</td>\n",
       "      <td>NaN</td>\n",
       "      <td>NaN</td>\n",
       "      <td>NaN</td>\n",
       "      <td>NaN</td>\n",
       "      <td>NaN</td>\n",
       "      <td>NaN</td>\n",
       "    </tr>\n",
       "    <tr>\n",
       "      <th>1</th>\n",
       "      <td>5ff1e1bb0a720f052300056b</td>\n",
       "      <td>4011</td>\n",
       "      <td>ITEM NOT FOUND</td>\n",
       "      <td>1</td>\n",
       "      <td>1</td>\n",
       "      <td>NaN</td>\n",
       "      <td>1</td>\n",
       "      <td>NaN</td>\n",
       "      <td>1.0</td>\n",
       "      <td>NaN</td>\n",
       "      <td>...</td>\n",
       "      <td>NaN</td>\n",
       "      <td>NaN</td>\n",
       "      <td>NaN</td>\n",
       "      <td>NaN</td>\n",
       "      <td>NaN</td>\n",
       "      <td>NaN</td>\n",
       "      <td>NaN</td>\n",
       "      <td>NaN</td>\n",
       "      <td>NaN</td>\n",
       "      <td>NaN</td>\n",
       "    </tr>\n",
       "    <tr>\n",
       "      <th>2</th>\n",
       "      <td>5ff1e1bb0a720f052300056b</td>\n",
       "      <td>028400642255</td>\n",
       "      <td>DORITOS TORTILLA CHIP SPICY SWEET CHILI REDUCE...</td>\n",
       "      <td>10.00</td>\n",
       "      <td>10.00</td>\n",
       "      <td>True</td>\n",
       "      <td>2</td>\n",
       "      <td>True</td>\n",
       "      <td>1.0</td>\n",
       "      <td>028400642255</td>\n",
       "      <td>...</td>\n",
       "      <td>NaN</td>\n",
       "      <td>NaN</td>\n",
       "      <td>NaN</td>\n",
       "      <td>NaN</td>\n",
       "      <td>NaN</td>\n",
       "      <td>NaN</td>\n",
       "      <td>NaN</td>\n",
       "      <td>NaN</td>\n",
       "      <td>NaN</td>\n",
       "      <td>NaN</td>\n",
       "    </tr>\n",
       "    <tr>\n",
       "      <th>3</th>\n",
       "      <td>5ff1e1f10a720f052300057a</td>\n",
       "      <td>NaN</td>\n",
       "      <td>NaN</td>\n",
       "      <td>NaN</td>\n",
       "      <td>NaN</td>\n",
       "      <td>False</td>\n",
       "      <td>1</td>\n",
       "      <td>True</td>\n",
       "      <td>NaN</td>\n",
       "      <td>4011</td>\n",
       "      <td>...</td>\n",
       "      <td>NaN</td>\n",
       "      <td>NaN</td>\n",
       "      <td>NaN</td>\n",
       "      <td>NaN</td>\n",
       "      <td>NaN</td>\n",
       "      <td>NaN</td>\n",
       "      <td>NaN</td>\n",
       "      <td>NaN</td>\n",
       "      <td>NaN</td>\n",
       "      <td>NaN</td>\n",
       "    </tr>\n",
       "    <tr>\n",
       "      <th>4</th>\n",
       "      <td>5ff1e1ee0a7214ada100056f</td>\n",
       "      <td>4011</td>\n",
       "      <td>ITEM NOT FOUND</td>\n",
       "      <td>28.00</td>\n",
       "      <td>28.00</td>\n",
       "      <td>False</td>\n",
       "      <td>1</td>\n",
       "      <td>True</td>\n",
       "      <td>4.0</td>\n",
       "      <td>4011</td>\n",
       "      <td>...</td>\n",
       "      <td>NaN</td>\n",
       "      <td>NaN</td>\n",
       "      <td>NaN</td>\n",
       "      <td>NaN</td>\n",
       "      <td>NaN</td>\n",
       "      <td>NaN</td>\n",
       "      <td>NaN</td>\n",
       "      <td>NaN</td>\n",
       "      <td>NaN</td>\n",
       "      <td>NaN</td>\n",
       "    </tr>\n",
       "  </tbody>\n",
       "</table>\n",
       "<p>5 rows × 35 columns</p>\n",
       "</div>"
      ],
      "text/plain": [
       "                 receipt_id       barcode  \\\n",
       "0  5ff1e1eb0a720f0523000575          4011   \n",
       "1  5ff1e1bb0a720f052300056b          4011   \n",
       "2  5ff1e1bb0a720f052300056b  028400642255   \n",
       "3  5ff1e1f10a720f052300057a           NaN   \n",
       "4  5ff1e1ee0a7214ada100056f          4011   \n",
       "\n",
       "                                         description finalPrice itemPrice  \\\n",
       "0                                     ITEM NOT FOUND      26.00     26.00   \n",
       "1                                     ITEM NOT FOUND          1         1   \n",
       "2  DORITOS TORTILLA CHIP SPICY SWEET CHILI REDUCE...      10.00     10.00   \n",
       "3                                                NaN        NaN       NaN   \n",
       "4                                     ITEM NOT FOUND      28.00     28.00   \n",
       "\n",
       "  needsFetchReview partnerItemId preventTargetGapPoints  quantityPurchased  \\\n",
       "0            False             1                   True                5.0   \n",
       "1              NaN             1                    NaN                1.0   \n",
       "2             True             2                   True                1.0   \n",
       "3            False             1                   True                NaN   \n",
       "4            False             1                   True                4.0   \n",
       "\n",
       "  userFlaggedBarcode  ... itemNumber originalMetaBriteQuantityPurchased  \\\n",
       "0               4011  ...        NaN                                NaN   \n",
       "1                NaN  ...        NaN                                NaN   \n",
       "2       028400642255  ...        NaN                                NaN   \n",
       "3               4011  ...        NaN                                NaN   \n",
       "4               4011  ...        NaN                                NaN   \n",
       "\n",
       "   pointsEarned targetPrice competitiveProduct originalFinalPrice  \\\n",
       "0           NaN         NaN                NaN                NaN   \n",
       "1           NaN         NaN                NaN                NaN   \n",
       "2           NaN         NaN                NaN                NaN   \n",
       "3           NaN         NaN                NaN                NaN   \n",
       "4           NaN         NaN                NaN                NaN   \n",
       "\n",
       "  originalMetaBriteItemPrice deleted priceAfterCoupon metabriteCampaignId  \n",
       "0                        NaN     NaN              NaN                 NaN  \n",
       "1                        NaN     NaN              NaN                 NaN  \n",
       "2                        NaN     NaN              NaN                 NaN  \n",
       "3                        NaN     NaN              NaN                 NaN  \n",
       "4                        NaN     NaN              NaN                 NaN  \n",
       "\n",
       "[5 rows x 35 columns]"
      ]
     },
     "execution_count": 385,
     "metadata": {},
     "output_type": "execute_result"
    }
   ],
   "source": [
    "items.head()"
   ]
  },
  {
   "cell_type": "code",
   "execution_count": 327,
   "id": "1439ee87-57a1-45fd-b7a8-20bcf6d0eb12",
   "metadata": {},
   "outputs": [
    {
     "data": {
      "text/plain": [
       "barcode\n",
       "4011            177\n",
       "036000320893     92\n",
       "034100573065     90\n",
       "036000391718     87\n",
       "012000809941     76\n",
       "               ... \n",
       "4562              1\n",
       "021000701445      1\n",
       "021000026999      1\n",
       "686924560242      1\n",
       "665290001184      1\n",
       "Name: count, Length: 568, dtype: int64"
      ]
     },
     "execution_count": 327,
     "metadata": {},
     "output_type": "execute_result"
    }
   ],
   "source": [
    "items.barcode.value_counts()"
   ]
  },
  {
   "cell_type": "code",
   "execution_count": 329,
   "id": "679f3076-e520-4a19-8c57-afa5c5c15d9d",
   "metadata": {},
   "outputs": [
    {
     "data": {
      "text/plain": [
       "description\n",
       "ITEM NOT FOUND                                                         173\n",
       "KLARBRUNN 12PK 12 FL OZ                                                120\n",
       "HUGGIES SIMPLY CLEAN PREMOISTENED WIPE FRAGRANCE FREE BAG 216 COUNT     92\n",
       "MILLER LITE 24 PACK 12OZ CAN                                            90\n",
       "KLEENEX POP UP RECTANGLE BOX FACIAL TISSUE 2 PLY 8PK 160 CT             87\n",
       "                                                                      ... \n",
       "434 BETTYCRKRB                                                           1\n",
       "433 KROGERSOUR                                                           1\n",
       "430 DOLESALAD K                                                          1\n",
       "424 RAGU PASTAS                                                          1\n",
       "Berry Strawberry Conventional, 16 Ounce                                  1\n",
       "Name: count, Length: 1889, dtype: int64"
      ]
     },
     "execution_count": 329,
     "metadata": {},
     "output_type": "execute_result"
    }
   ],
   "source": [
    "items.description.value_counts()"
   ]
  },
  {
   "cell_type": "code",
   "execution_count": 331,
   "id": "20ece14b-7b49-4430-a9a7-e96aa2313839",
   "metadata": {},
   "outputs": [
    {
     "data": {
      "text/plain": [
       "needsFetchReview\n",
       "False    594\n",
       "True     219\n",
       "Name: count, dtype: int64"
      ]
     },
     "execution_count": 331,
     "metadata": {},
     "output_type": "execute_result"
    }
   ],
   "source": [
    "items.needsFetchReview.value_counts()"
   ]
  },
  {
   "cell_type": "code",
   "execution_count": 335,
   "id": "9a246646-097e-4219-8a20-e15d9be8d69a",
   "metadata": {},
   "outputs": [
    {
     "data": {
      "text/plain": [
       "6"
      ]
     },
     "execution_count": 335,
     "metadata": {},
     "output_type": "execute_result"
    }
   ],
   "source": [
    "items.userFlaggedBarcode.nunique()"
   ]
  },
  {
   "cell_type": "code",
   "execution_count": 337,
   "id": "21987326-f004-4f2c-8f31-9ae258dc0a03",
   "metadata": {},
   "outputs": [
    {
     "data": {
      "text/plain": [
       "userFlaggedBarcode\n",
       "034100573065    166\n",
       "4011            107\n",
       "1234             32\n",
       "028400642255     13\n",
       "079400066619     10\n",
       "075925306254      9\n",
       "Name: count, dtype: int64"
      ]
     },
     "execution_count": 337,
     "metadata": {},
     "output_type": "execute_result"
    }
   ],
   "source": [
    "items.userFlaggedBarcode.value_counts()"
   ]
  },
  {
   "cell_type": "code",
   "execution_count": 343,
   "id": "faf7844c-3e26-4651-8ce1-c8f8c8a8e3bc",
   "metadata": {},
   "outputs": [
    {
     "data": {
      "text/html": [
       "<div>\n",
       "<style scoped>\n",
       "    .dataframe tbody tr th:only-of-type {\n",
       "        vertical-align: middle;\n",
       "    }\n",
       "\n",
       "    .dataframe tbody tr th {\n",
       "        vertical-align: top;\n",
       "    }\n",
       "\n",
       "    .dataframe thead th {\n",
       "        text-align: right;\n",
       "    }\n",
       "</style>\n",
       "<table border=\"1\" class=\"dataframe\">\n",
       "  <thead>\n",
       "    <tr style=\"text-align: right;\">\n",
       "      <th></th>\n",
       "      <th>receipt_id</th>\n",
       "      <th>barcode</th>\n",
       "      <th>description</th>\n",
       "      <th>finalPrice</th>\n",
       "      <th>itemPrice</th>\n",
       "      <th>needsFetchReview</th>\n",
       "      <th>partnerItemId</th>\n",
       "      <th>preventTargetGapPoints</th>\n",
       "      <th>quantityPurchased</th>\n",
       "      <th>userFlaggedBarcode</th>\n",
       "      <th>...</th>\n",
       "      <th>itemNumber</th>\n",
       "      <th>originalMetaBriteQuantityPurchased</th>\n",
       "      <th>pointsEarned</th>\n",
       "      <th>targetPrice</th>\n",
       "      <th>competitiveProduct</th>\n",
       "      <th>originalFinalPrice</th>\n",
       "      <th>originalMetaBriteItemPrice</th>\n",
       "      <th>deleted</th>\n",
       "      <th>priceAfterCoupon</th>\n",
       "      <th>metabriteCampaignId</th>\n",
       "    </tr>\n",
       "  </thead>\n",
       "  <tbody>\n",
       "    <tr>\n",
       "      <th>25</th>\n",
       "      <td>5f9c74f70a7214ad07000037</td>\n",
       "      <td>NaN</td>\n",
       "      <td>NaN</td>\n",
       "      <td>NaN</td>\n",
       "      <td>NaN</td>\n",
       "      <td>True</td>\n",
       "      <td>2</td>\n",
       "      <td>True</td>\n",
       "      <td>NaN</td>\n",
       "      <td>034100573065</td>\n",
       "      <td>...</td>\n",
       "      <td>NaN</td>\n",
       "      <td>NaN</td>\n",
       "      <td>NaN</td>\n",
       "      <td>NaN</td>\n",
       "      <td>NaN</td>\n",
       "      <td>NaN</td>\n",
       "      <td>NaN</td>\n",
       "      <td>NaN</td>\n",
       "      <td>NaN</td>\n",
       "      <td>NaN</td>\n",
       "    </tr>\n",
       "    <tr>\n",
       "      <th>26</th>\n",
       "      <td>5f9c74f70a7214ad07000037</td>\n",
       "      <td>NaN</td>\n",
       "      <td>NaN</td>\n",
       "      <td>NaN</td>\n",
       "      <td>NaN</td>\n",
       "      <td>True</td>\n",
       "      <td>3</td>\n",
       "      <td>True</td>\n",
       "      <td>NaN</td>\n",
       "      <td>034100573065</td>\n",
       "      <td>...</td>\n",
       "      <td>NaN</td>\n",
       "      <td>NaN</td>\n",
       "      <td>NaN</td>\n",
       "      <td>NaN</td>\n",
       "      <td>NaN</td>\n",
       "      <td>NaN</td>\n",
       "      <td>NaN</td>\n",
       "      <td>NaN</td>\n",
       "      <td>NaN</td>\n",
       "      <td>NaN</td>\n",
       "    </tr>\n",
       "    <tr>\n",
       "      <th>27</th>\n",
       "      <td>5f9c74f70a7214ad07000037</td>\n",
       "      <td>NaN</td>\n",
       "      <td>NaN</td>\n",
       "      <td>NaN</td>\n",
       "      <td>NaN</td>\n",
       "      <td>True</td>\n",
       "      <td>4</td>\n",
       "      <td>True</td>\n",
       "      <td>NaN</td>\n",
       "      <td>034100573065</td>\n",
       "      <td>...</td>\n",
       "      <td>NaN</td>\n",
       "      <td>NaN</td>\n",
       "      <td>NaN</td>\n",
       "      <td>NaN</td>\n",
       "      <td>NaN</td>\n",
       "      <td>NaN</td>\n",
       "      <td>NaN</td>\n",
       "      <td>NaN</td>\n",
       "      <td>NaN</td>\n",
       "      <td>NaN</td>\n",
       "    </tr>\n",
       "    <tr>\n",
       "      <th>28</th>\n",
       "      <td>5f9c74f70a7214ad07000037</td>\n",
       "      <td>NaN</td>\n",
       "      <td>NaN</td>\n",
       "      <td>NaN</td>\n",
       "      <td>NaN</td>\n",
       "      <td>True</td>\n",
       "      <td>5</td>\n",
       "      <td>True</td>\n",
       "      <td>NaN</td>\n",
       "      <td>034100573065</td>\n",
       "      <td>...</td>\n",
       "      <td>NaN</td>\n",
       "      <td>NaN</td>\n",
       "      <td>NaN</td>\n",
       "      <td>NaN</td>\n",
       "      <td>NaN</td>\n",
       "      <td>NaN</td>\n",
       "      <td>NaN</td>\n",
       "      <td>NaN</td>\n",
       "      <td>NaN</td>\n",
       "      <td>NaN</td>\n",
       "    </tr>\n",
       "    <tr>\n",
       "      <th>29</th>\n",
       "      <td>5f9c74f70a7214ad07000037</td>\n",
       "      <td>NaN</td>\n",
       "      <td>NaN</td>\n",
       "      <td>NaN</td>\n",
       "      <td>NaN</td>\n",
       "      <td>True</td>\n",
       "      <td>6</td>\n",
       "      <td>True</td>\n",
       "      <td>NaN</td>\n",
       "      <td>034100573065</td>\n",
       "      <td>...</td>\n",
       "      <td>NaN</td>\n",
       "      <td>NaN</td>\n",
       "      <td>NaN</td>\n",
       "      <td>NaN</td>\n",
       "      <td>NaN</td>\n",
       "      <td>NaN</td>\n",
       "      <td>NaN</td>\n",
       "      <td>NaN</td>\n",
       "      <td>NaN</td>\n",
       "      <td>NaN</td>\n",
       "    </tr>\n",
       "    <tr>\n",
       "      <th>...</th>\n",
       "      <td>...</td>\n",
       "      <td>...</td>\n",
       "      <td>...</td>\n",
       "      <td>...</td>\n",
       "      <td>...</td>\n",
       "      <td>...</td>\n",
       "      <td>...</td>\n",
       "      <td>...</td>\n",
       "      <td>...</td>\n",
       "      <td>...</td>\n",
       "      <td>...</td>\n",
       "      <td>...</td>\n",
       "      <td>...</td>\n",
       "      <td>...</td>\n",
       "      <td>...</td>\n",
       "      <td>...</td>\n",
       "      <td>...</td>\n",
       "      <td>...</td>\n",
       "      <td>...</td>\n",
       "      <td>...</td>\n",
       "      <td>...</td>\n",
       "    </tr>\n",
       "    <tr>\n",
       "      <th>6765</th>\n",
       "      <td>5fb2da580a7214ad89000114</td>\n",
       "      <td>NaN</td>\n",
       "      <td>NaN</td>\n",
       "      <td>NaN</td>\n",
       "      <td>NaN</td>\n",
       "      <td>True</td>\n",
       "      <td>7</td>\n",
       "      <td>True</td>\n",
       "      <td>NaN</td>\n",
       "      <td>034100573065</td>\n",
       "      <td>...</td>\n",
       "      <td>NaN</td>\n",
       "      <td>NaN</td>\n",
       "      <td>NaN</td>\n",
       "      <td>NaN</td>\n",
       "      <td>NaN</td>\n",
       "      <td>NaN</td>\n",
       "      <td>NaN</td>\n",
       "      <td>NaN</td>\n",
       "      <td>NaN</td>\n",
       "      <td>NaN</td>\n",
       "    </tr>\n",
       "    <tr>\n",
       "      <th>6766</th>\n",
       "      <td>5fb2da580a7214ad89000114</td>\n",
       "      <td>NaN</td>\n",
       "      <td>NaN</td>\n",
       "      <td>NaN</td>\n",
       "      <td>NaN</td>\n",
       "      <td>True</td>\n",
       "      <td>8</td>\n",
       "      <td>True</td>\n",
       "      <td>NaN</td>\n",
       "      <td>034100573065</td>\n",
       "      <td>...</td>\n",
       "      <td>NaN</td>\n",
       "      <td>NaN</td>\n",
       "      <td>NaN</td>\n",
       "      <td>NaN</td>\n",
       "      <td>NaN</td>\n",
       "      <td>NaN</td>\n",
       "      <td>NaN</td>\n",
       "      <td>NaN</td>\n",
       "      <td>NaN</td>\n",
       "      <td>NaN</td>\n",
       "    </tr>\n",
       "    <tr>\n",
       "      <th>6767</th>\n",
       "      <td>5fb2da580a7214ad89000114</td>\n",
       "      <td>NaN</td>\n",
       "      <td>NaN</td>\n",
       "      <td>NaN</td>\n",
       "      <td>NaN</td>\n",
       "      <td>True</td>\n",
       "      <td>9</td>\n",
       "      <td>True</td>\n",
       "      <td>NaN</td>\n",
       "      <td>034100573065</td>\n",
       "      <td>...</td>\n",
       "      <td>NaN</td>\n",
       "      <td>NaN</td>\n",
       "      <td>NaN</td>\n",
       "      <td>NaN</td>\n",
       "      <td>NaN</td>\n",
       "      <td>NaN</td>\n",
       "      <td>NaN</td>\n",
       "      <td>NaN</td>\n",
       "      <td>NaN</td>\n",
       "      <td>NaN</td>\n",
       "    </tr>\n",
       "    <tr>\n",
       "      <th>6768</th>\n",
       "      <td>5fb2da580a7214ad89000114</td>\n",
       "      <td>NaN</td>\n",
       "      <td>NaN</td>\n",
       "      <td>NaN</td>\n",
       "      <td>NaN</td>\n",
       "      <td>True</td>\n",
       "      <td>10</td>\n",
       "      <td>True</td>\n",
       "      <td>NaN</td>\n",
       "      <td>034100573065</td>\n",
       "      <td>...</td>\n",
       "      <td>NaN</td>\n",
       "      <td>NaN</td>\n",
       "      <td>NaN</td>\n",
       "      <td>NaN</td>\n",
       "      <td>NaN</td>\n",
       "      <td>NaN</td>\n",
       "      <td>NaN</td>\n",
       "      <td>NaN</td>\n",
       "      <td>NaN</td>\n",
       "      <td>NaN</td>\n",
       "    </tr>\n",
       "    <tr>\n",
       "      <th>6769</th>\n",
       "      <td>5fb2da580a7214ad89000114</td>\n",
       "      <td>NaN</td>\n",
       "      <td>NaN</td>\n",
       "      <td>NaN</td>\n",
       "      <td>NaN</td>\n",
       "      <td>True</td>\n",
       "      <td>11</td>\n",
       "      <td>True</td>\n",
       "      <td>NaN</td>\n",
       "      <td>034100573065</td>\n",
       "      <td>...</td>\n",
       "      <td>NaN</td>\n",
       "      <td>NaN</td>\n",
       "      <td>NaN</td>\n",
       "      <td>NaN</td>\n",
       "      <td>NaN</td>\n",
       "      <td>NaN</td>\n",
       "      <td>NaN</td>\n",
       "      <td>NaN</td>\n",
       "      <td>NaN</td>\n",
       "      <td>NaN</td>\n",
       "    </tr>\n",
       "  </tbody>\n",
       "</table>\n",
       "<p>166 rows × 35 columns</p>\n",
       "</div>"
      ],
      "text/plain": [
       "                    receipt_id barcode description finalPrice itemPrice  \\\n",
       "25    5f9c74f70a7214ad07000037     NaN         NaN        NaN       NaN   \n",
       "26    5f9c74f70a7214ad07000037     NaN         NaN        NaN       NaN   \n",
       "27    5f9c74f70a7214ad07000037     NaN         NaN        NaN       NaN   \n",
       "28    5f9c74f70a7214ad07000037     NaN         NaN        NaN       NaN   \n",
       "29    5f9c74f70a7214ad07000037     NaN         NaN        NaN       NaN   \n",
       "...                        ...     ...         ...        ...       ...   \n",
       "6765  5fb2da580a7214ad89000114     NaN         NaN        NaN       NaN   \n",
       "6766  5fb2da580a7214ad89000114     NaN         NaN        NaN       NaN   \n",
       "6767  5fb2da580a7214ad89000114     NaN         NaN        NaN       NaN   \n",
       "6768  5fb2da580a7214ad89000114     NaN         NaN        NaN       NaN   \n",
       "6769  5fb2da580a7214ad89000114     NaN         NaN        NaN       NaN   \n",
       "\n",
       "     needsFetchReview partnerItemId preventTargetGapPoints  quantityPurchased  \\\n",
       "25               True             2                   True                NaN   \n",
       "26               True             3                   True                NaN   \n",
       "27               True             4                   True                NaN   \n",
       "28               True             5                   True                NaN   \n",
       "29               True             6                   True                NaN   \n",
       "...               ...           ...                    ...                ...   \n",
       "6765             True             7                   True                NaN   \n",
       "6766             True             8                   True                NaN   \n",
       "6767             True             9                   True                NaN   \n",
       "6768             True            10                   True                NaN   \n",
       "6769             True            11                   True                NaN   \n",
       "\n",
       "     userFlaggedBarcode  ... itemNumber originalMetaBriteQuantityPurchased  \\\n",
       "25         034100573065  ...        NaN                                NaN   \n",
       "26         034100573065  ...        NaN                                NaN   \n",
       "27         034100573065  ...        NaN                                NaN   \n",
       "28         034100573065  ...        NaN                                NaN   \n",
       "29         034100573065  ...        NaN                                NaN   \n",
       "...                 ...  ...        ...                                ...   \n",
       "6765       034100573065  ...        NaN                                NaN   \n",
       "6766       034100573065  ...        NaN                                NaN   \n",
       "6767       034100573065  ...        NaN                                NaN   \n",
       "6768       034100573065  ...        NaN                                NaN   \n",
       "6769       034100573065  ...        NaN                                NaN   \n",
       "\n",
       "      pointsEarned targetPrice competitiveProduct originalFinalPrice  \\\n",
       "25             NaN         NaN                NaN                NaN   \n",
       "26             NaN         NaN                NaN                NaN   \n",
       "27             NaN         NaN                NaN                NaN   \n",
       "28             NaN         NaN                NaN                NaN   \n",
       "29             NaN         NaN                NaN                NaN   \n",
       "...            ...         ...                ...                ...   \n",
       "6765           NaN         NaN                NaN                NaN   \n",
       "6766           NaN         NaN                NaN                NaN   \n",
       "6767           NaN         NaN                NaN                NaN   \n",
       "6768           NaN         NaN                NaN                NaN   \n",
       "6769           NaN         NaN                NaN                NaN   \n",
       "\n",
       "     originalMetaBriteItemPrice deleted priceAfterCoupon metabriteCampaignId  \n",
       "25                          NaN     NaN              NaN                 NaN  \n",
       "26                          NaN     NaN              NaN                 NaN  \n",
       "27                          NaN     NaN              NaN                 NaN  \n",
       "28                          NaN     NaN              NaN                 NaN  \n",
       "29                          NaN     NaN              NaN                 NaN  \n",
       "...                         ...     ...              ...                 ...  \n",
       "6765                        NaN     NaN              NaN                 NaN  \n",
       "6766                        NaN     NaN              NaN                 NaN  \n",
       "6767                        NaN     NaN              NaN                 NaN  \n",
       "6768                        NaN     NaN              NaN                 NaN  \n",
       "6769                        NaN     NaN              NaN                 NaN  \n",
       "\n",
       "[166 rows x 35 columns]"
      ]
     },
     "execution_count": 343,
     "metadata": {},
     "output_type": "execute_result"
    }
   ],
   "source": [
    "items.query('userFlaggedBarcode == \"034100573065\"')"
   ]
  },
  {
   "cell_type": "code",
   "execution_count": 345,
   "id": "1107abcf-03fa-4126-b2b2-ab94d51fb1f5",
   "metadata": {},
   "outputs": [],
   "source": [
    "barcodeTest = items.query('userFlaggedBarcode == \"034100573065\"')"
   ]
  },
  {
   "cell_type": "code",
   "execution_count": 349,
   "id": "c1311c59-d75b-44c8-a1c6-665f3092a3f7",
   "metadata": {},
   "outputs": [
    {
     "data": {
      "text/plain": [
       "description\n",
       "MILLER LITE 24 PACK 12OZ CAN    30\n",
       "Name: count, dtype: int64"
      ]
     },
     "execution_count": 349,
     "metadata": {},
     "output_type": "execute_result"
    }
   ],
   "source": [
    "barcodeTest.description.value_counts()"
   ]
  },
  {
   "cell_type": "markdown",
   "id": "669e21af-0820-4c21-a025-9880977f2b2f",
   "metadata": {},
   "source": [
    "* userFlaggedBarcode is worth investigating further, it was not used in our analysis as it contributed to very little barcode/brandCode identification"
   ]
  },
  {
   "cell_type": "code",
   "execution_count": 357,
   "id": "a9327654-16f0-487b-83fe-e399020f3a08",
   "metadata": {},
   "outputs": [],
   "source": [
    "# ReceiptID final price and ReceiptsDF TotalSum & Quantity"
   ]
  },
  {
   "cell_type": "code",
   "execution_count": 373,
   "id": "831258ce-ae33-4d2f-9baa-c8698beb9b8a",
   "metadata": {},
   "outputs": [],
   "source": [
    "items[['finalPrice', 'itemPrice','quantityPurchased']] = items[['finalPrice', 'itemPrice','quantityPurchased']].astype('float')"
   ]
  },
  {
   "cell_type": "code",
   "execution_count": 375,
   "id": "209f4331-17dc-4695-8fee-bfcf80ed283e",
   "metadata": {},
   "outputs": [],
   "source": [
    "itemsSums = items.groupby(['receipt_id'])[['finalPrice', 'itemPrice','quantityPurchased']].sum().reset_index()"
   ]
  },
  {
   "cell_type": "code",
   "execution_count": 377,
   "id": "fa170706-a2c6-4084-bfb7-32a368aebe5d",
   "metadata": {},
   "outputs": [
    {
     "data": {
      "text/html": [
       "<div>\n",
       "<style scoped>\n",
       "    .dataframe tbody tr th:only-of-type {\n",
       "        vertical-align: middle;\n",
       "    }\n",
       "\n",
       "    .dataframe tbody tr th {\n",
       "        vertical-align: top;\n",
       "    }\n",
       "\n",
       "    .dataframe thead th {\n",
       "        text-align: right;\n",
       "    }\n",
       "</style>\n",
       "<table border=\"1\" class=\"dataframe\">\n",
       "  <thead>\n",
       "    <tr style=\"text-align: right;\">\n",
       "      <th></th>\n",
       "      <th>receipt_id</th>\n",
       "      <th>finalPrice</th>\n",
       "      <th>itemPrice</th>\n",
       "      <th>quantityPurchased</th>\n",
       "    </tr>\n",
       "  </thead>\n",
       "  <tbody>\n",
       "    <tr>\n",
       "      <th>0</th>\n",
       "      <td>5f9c74f70a7214ad07000037</td>\n",
       "      <td>1.0</td>\n",
       "      <td>1.0</td>\n",
       "      <td>1.0</td>\n",
       "    </tr>\n",
       "    <tr>\n",
       "      <th>1</th>\n",
       "      <td>5f9c74f90a7214ad07000038</td>\n",
       "      <td>14.0</td>\n",
       "      <td>14.0</td>\n",
       "      <td>6.0</td>\n",
       "    </tr>\n",
       "    <tr>\n",
       "      <th>2</th>\n",
       "      <td>5fa5ad370a720f05ef000089</td>\n",
       "      <td>291.0</td>\n",
       "      <td>291.0</td>\n",
       "      <td>11.0</td>\n",
       "    </tr>\n",
       "    <tr>\n",
       "      <th>3</th>\n",
       "      <td>5fa5b0ca0a720f05ef0000bf</td>\n",
       "      <td>14.0</td>\n",
       "      <td>14.0</td>\n",
       "      <td>6.0</td>\n",
       "    </tr>\n",
       "    <tr>\n",
       "      <th>4</th>\n",
       "      <td>5fa8d5730a7214adc30001c3</td>\n",
       "      <td>1.0</td>\n",
       "      <td>1.0</td>\n",
       "      <td>1.0</td>\n",
       "    </tr>\n",
       "  </tbody>\n",
       "</table>\n",
       "</div>"
      ],
      "text/plain": [
       "                 receipt_id  finalPrice  itemPrice  quantityPurchased\n",
       "0  5f9c74f70a7214ad07000037         1.0        1.0                1.0\n",
       "1  5f9c74f90a7214ad07000038        14.0       14.0                6.0\n",
       "2  5fa5ad370a720f05ef000089       291.0      291.0               11.0\n",
       "3  5fa5b0ca0a720f05ef0000bf        14.0       14.0                6.0\n",
       "4  5fa8d5730a7214adc30001c3         1.0        1.0                1.0"
      ]
     },
     "execution_count": 377,
     "metadata": {},
     "output_type": "execute_result"
    }
   ],
   "source": [
    "itemsSums.head()"
   ]
  },
  {
   "cell_type": "code",
   "execution_count": 412,
   "id": "2274f399-01c5-44d0-8a83-56a712d6054c",
   "metadata": {},
   "outputs": [],
   "source": [
    "receiptsSums = receipts_df[['receipt_id','totalSpent','purchasedItemCount']]"
   ]
  },
  {
   "cell_type": "code",
   "execution_count": 416,
   "id": "3643d020-a0cd-41a5-b65d-d15616e6c603",
   "metadata": {},
   "outputs": [
    {
     "data": {
      "text/html": [
       "<div>\n",
       "<style scoped>\n",
       "    .dataframe tbody tr th:only-of-type {\n",
       "        vertical-align: middle;\n",
       "    }\n",
       "\n",
       "    .dataframe tbody tr th {\n",
       "        vertical-align: top;\n",
       "    }\n",
       "\n",
       "    .dataframe thead th {\n",
       "        text-align: right;\n",
       "    }\n",
       "</style>\n",
       "<table border=\"1\" class=\"dataframe\">\n",
       "  <thead>\n",
       "    <tr style=\"text-align: right;\">\n",
       "      <th></th>\n",
       "      <th>receipt_id</th>\n",
       "      <th>totalSpent</th>\n",
       "      <th>purchasedItemCount</th>\n",
       "    </tr>\n",
       "  </thead>\n",
       "  <tbody>\n",
       "    <tr>\n",
       "      <th>0</th>\n",
       "      <td>5ff1e1eb0a720f0523000575</td>\n",
       "      <td>26.0</td>\n",
       "      <td>5.0</td>\n",
       "    </tr>\n",
       "    <tr>\n",
       "      <th>1</th>\n",
       "      <td>5ff1e1bb0a720f052300056b</td>\n",
       "      <td>11.0</td>\n",
       "      <td>2.0</td>\n",
       "    </tr>\n",
       "    <tr>\n",
       "      <th>2</th>\n",
       "      <td>5ff1e1f10a720f052300057a</td>\n",
       "      <td>10.0</td>\n",
       "      <td>1.0</td>\n",
       "    </tr>\n",
       "    <tr>\n",
       "      <th>3</th>\n",
       "      <td>5ff1e1ee0a7214ada100056f</td>\n",
       "      <td>28.0</td>\n",
       "      <td>4.0</td>\n",
       "    </tr>\n",
       "    <tr>\n",
       "      <th>4</th>\n",
       "      <td>5ff1e1d20a7214ada1000561</td>\n",
       "      <td>1.0</td>\n",
       "      <td>2.0</td>\n",
       "    </tr>\n",
       "  </tbody>\n",
       "</table>\n",
       "</div>"
      ],
      "text/plain": [
       "                 receipt_id  totalSpent  purchasedItemCount\n",
       "0  5ff1e1eb0a720f0523000575        26.0                 5.0\n",
       "1  5ff1e1bb0a720f052300056b        11.0                 2.0\n",
       "2  5ff1e1f10a720f052300057a        10.0                 1.0\n",
       "3  5ff1e1ee0a7214ada100056f        28.0                 4.0\n",
       "4  5ff1e1d20a7214ada1000561         1.0                 2.0"
      ]
     },
     "execution_count": 416,
     "metadata": {},
     "output_type": "execute_result"
    }
   ],
   "source": [
    "receiptsSums.head()"
   ]
  },
  {
   "cell_type": "code",
   "execution_count": 418,
   "id": "af6ed737-623c-4751-a8cc-0cbfc461180b",
   "metadata": {},
   "outputs": [],
   "source": [
    "comps = pd.merge(receiptsSums, itemsSums, on='receipt_id', how='inner').fillna(0)"
   ]
  },
  {
   "cell_type": "code",
   "execution_count": 420,
   "id": "abf1cd89-6f39-439a-a49d-38e5479ab7c7",
   "metadata": {},
   "outputs": [
    {
     "data": {
      "text/plain": [
       "(679, 6)"
      ]
     },
     "execution_count": 420,
     "metadata": {},
     "output_type": "execute_result"
    }
   ],
   "source": [
    "comps.shape"
   ]
  },
  {
   "cell_type": "code",
   "execution_count": 422,
   "id": "2e49a20e-a406-4875-a499-534691683367",
   "metadata": {},
   "outputs": [
    {
     "data": {
      "text/html": [
       "<div>\n",
       "<style scoped>\n",
       "    .dataframe tbody tr th:only-of-type {\n",
       "        vertical-align: middle;\n",
       "    }\n",
       "\n",
       "    .dataframe tbody tr th {\n",
       "        vertical-align: top;\n",
       "    }\n",
       "\n",
       "    .dataframe thead th {\n",
       "        text-align: right;\n",
       "    }\n",
       "</style>\n",
       "<table border=\"1\" class=\"dataframe\">\n",
       "  <thead>\n",
       "    <tr style=\"text-align: right;\">\n",
       "      <th></th>\n",
       "      <th>receipt_id</th>\n",
       "      <th>totalSpent</th>\n",
       "      <th>purchasedItemCount</th>\n",
       "      <th>finalPrice</th>\n",
       "      <th>itemPrice</th>\n",
       "      <th>quantityPurchased</th>\n",
       "    </tr>\n",
       "  </thead>\n",
       "  <tbody>\n",
       "    <tr>\n",
       "      <th>0</th>\n",
       "      <td>5ff1e1eb0a720f0523000575</td>\n",
       "      <td>26.0</td>\n",
       "      <td>5.0</td>\n",
       "      <td>26.00</td>\n",
       "      <td>26.00</td>\n",
       "      <td>5.0</td>\n",
       "    </tr>\n",
       "    <tr>\n",
       "      <th>1</th>\n",
       "      <td>5ff1e1bb0a720f052300056b</td>\n",
       "      <td>11.0</td>\n",
       "      <td>2.0</td>\n",
       "      <td>11.00</td>\n",
       "      <td>11.00</td>\n",
       "      <td>2.0</td>\n",
       "    </tr>\n",
       "    <tr>\n",
       "      <th>2</th>\n",
       "      <td>5ff1e1f10a720f052300057a</td>\n",
       "      <td>10.0</td>\n",
       "      <td>1.0</td>\n",
       "      <td>0.00</td>\n",
       "      <td>0.00</td>\n",
       "      <td>0.0</td>\n",
       "    </tr>\n",
       "    <tr>\n",
       "      <th>3</th>\n",
       "      <td>5ff1e1ee0a7214ada100056f</td>\n",
       "      <td>28.0</td>\n",
       "      <td>4.0</td>\n",
       "      <td>28.00</td>\n",
       "      <td>28.00</td>\n",
       "      <td>4.0</td>\n",
       "    </tr>\n",
       "    <tr>\n",
       "      <th>4</th>\n",
       "      <td>5ff1e1d20a7214ada1000561</td>\n",
       "      <td>1.0</td>\n",
       "      <td>2.0</td>\n",
       "      <td>3.56</td>\n",
       "      <td>3.56</td>\n",
       "      <td>4.0</td>\n",
       "    </tr>\n",
       "  </tbody>\n",
       "</table>\n",
       "</div>"
      ],
      "text/plain": [
       "                 receipt_id  totalSpent  purchasedItemCount  finalPrice  \\\n",
       "0  5ff1e1eb0a720f0523000575        26.0                 5.0       26.00   \n",
       "1  5ff1e1bb0a720f052300056b        11.0                 2.0       11.00   \n",
       "2  5ff1e1f10a720f052300057a        10.0                 1.0        0.00   \n",
       "3  5ff1e1ee0a7214ada100056f        28.0                 4.0       28.00   \n",
       "4  5ff1e1d20a7214ada1000561         1.0                 2.0        3.56   \n",
       "\n",
       "   itemPrice  quantityPurchased  \n",
       "0      26.00                5.0  \n",
       "1      11.00                2.0  \n",
       "2       0.00                0.0  \n",
       "3      28.00                4.0  \n",
       "4       3.56                4.0  "
      ]
     },
     "execution_count": 422,
     "metadata": {},
     "output_type": "execute_result"
    }
   ],
   "source": [
    "comps.head()"
   ]
  },
  {
   "cell_type": "code",
   "execution_count": 436,
   "id": "3508d2b5-e67b-4e8b-a962-d3ce871be819",
   "metadata": {
    "scrolled": true
   },
   "outputs": [
    {
     "data": {
      "text/html": [
       "<div>\n",
       "<style scoped>\n",
       "    .dataframe tbody tr th:only-of-type {\n",
       "        vertical-align: middle;\n",
       "    }\n",
       "\n",
       "    .dataframe tbody tr th {\n",
       "        vertical-align: top;\n",
       "    }\n",
       "\n",
       "    .dataframe thead th {\n",
       "        text-align: right;\n",
       "    }\n",
       "</style>\n",
       "<table border=\"1\" class=\"dataframe\">\n",
       "  <thead>\n",
       "    <tr style=\"text-align: right;\">\n",
       "      <th></th>\n",
       "      <th>receipt_id</th>\n",
       "      <th>totalSpent</th>\n",
       "      <th>purchasedItemCount</th>\n",
       "      <th>finalPrice</th>\n",
       "      <th>itemPrice</th>\n",
       "      <th>quantityPurchased</th>\n",
       "    </tr>\n",
       "  </thead>\n",
       "  <tbody>\n",
       "    <tr>\n",
       "      <th>2</th>\n",
       "      <td>5ff1e1f10a720f052300057a</td>\n",
       "      <td>10.00</td>\n",
       "      <td>1.0</td>\n",
       "      <td>0.00</td>\n",
       "      <td>0.00</td>\n",
       "      <td>0.0</td>\n",
       "    </tr>\n",
       "    <tr>\n",
       "      <th>4</th>\n",
       "      <td>5ff1e1d20a7214ada1000561</td>\n",
       "      <td>1.00</td>\n",
       "      <td>2.0</td>\n",
       "      <td>3.56</td>\n",
       "      <td>3.56</td>\n",
       "      <td>4.0</td>\n",
       "    </tr>\n",
       "    <tr>\n",
       "      <th>106</th>\n",
       "      <td>5ff618e30a7214ada10005fa</td>\n",
       "      <td>52.12</td>\n",
       "      <td>16.0</td>\n",
       "      <td>52.12</td>\n",
       "      <td>52.12</td>\n",
       "      <td>16.0</td>\n",
       "    </tr>\n",
       "    <tr>\n",
       "      <th>136</th>\n",
       "      <td>5ff726810a720f05230005ea</td>\n",
       "      <td>1.00</td>\n",
       "      <td>2.0</td>\n",
       "      <td>3.56</td>\n",
       "      <td>3.56</td>\n",
       "      <td>4.0</td>\n",
       "    </tr>\n",
       "    <tr>\n",
       "      <th>160</th>\n",
       "      <td>5ff874050a7214ada100065d</td>\n",
       "      <td>1.00</td>\n",
       "      <td>2.0</td>\n",
       "      <td>3.56</td>\n",
       "      <td>3.56</td>\n",
       "      <td>4.0</td>\n",
       "    </tr>\n",
       "    <tr>\n",
       "      <th>196</th>\n",
       "      <td>5ffcb4ad0a720f0515000009</td>\n",
       "      <td>1.00</td>\n",
       "      <td>2.0</td>\n",
       "      <td>3.56</td>\n",
       "      <td>3.56</td>\n",
       "      <td>4.0</td>\n",
       "    </tr>\n",
       "    <tr>\n",
       "      <th>199</th>\n",
       "      <td>5ffc9d9c0a7214adca00004b</td>\n",
       "      <td>10.00</td>\n",
       "      <td>1.0</td>\n",
       "      <td>24.00</td>\n",
       "      <td>24.00</td>\n",
       "      <td>5.0</td>\n",
       "    </tr>\n",
       "    <tr>\n",
       "      <th>203</th>\n",
       "      <td>5ffcb4b80a7214ad4e00000d</td>\n",
       "      <td>10.00</td>\n",
       "      <td>1.0</td>\n",
       "      <td>22.00</td>\n",
       "      <td>22.00</td>\n",
       "      <td>1.0</td>\n",
       "    </tr>\n",
       "    <tr>\n",
       "      <th>274</th>\n",
       "      <td>6000d4b50a720f05f3000078</td>\n",
       "      <td>10.00</td>\n",
       "      <td>1.0</td>\n",
       "      <td>0.00</td>\n",
       "      <td>0.00</td>\n",
       "      <td>0.0</td>\n",
       "    </tr>\n",
       "    <tr>\n",
       "      <th>289</th>\n",
       "      <td>6002590c0a7214ad4c000082</td>\n",
       "      <td>746.94</td>\n",
       "      <td>208.0</td>\n",
       "      <td>746.94</td>\n",
       "      <td>746.94</td>\n",
       "      <td>208.0</td>\n",
       "    </tr>\n",
       "    <tr>\n",
       "      <th>349</th>\n",
       "      <td>6008888f0a720f05fa0000b5</td>\n",
       "      <td>1.00</td>\n",
       "      <td>2.0</td>\n",
       "      <td>3.56</td>\n",
       "      <td>3.56</td>\n",
       "      <td>4.0</td>\n",
       "    </tr>\n",
       "    <tr>\n",
       "      <th>359</th>\n",
       "      <td>60088aff0a7214ad890000da</td>\n",
       "      <td>10.00</td>\n",
       "      <td>1.0</td>\n",
       "      <td>0.00</td>\n",
       "      <td>0.00</td>\n",
       "      <td>0.0</td>\n",
       "    </tr>\n",
       "    <tr>\n",
       "      <th>388</th>\n",
       "      <td>600affe60a7214ada2000009</td>\n",
       "      <td>83.85</td>\n",
       "      <td>21.0</td>\n",
       "      <td>83.85</td>\n",
       "      <td>83.85</td>\n",
       "      <td>21.0</td>\n",
       "    </tr>\n",
       "    <tr>\n",
       "      <th>453</th>\n",
       "      <td>6011f39c0a720f05350000b4</td>\n",
       "      <td>1.00</td>\n",
       "      <td>2.0</td>\n",
       "      <td>3.56</td>\n",
       "      <td>3.56</td>\n",
       "      <td>4.0</td>\n",
       "    </tr>\n",
       "    <tr>\n",
       "      <th>488</th>\n",
       "      <td>6012ea2d0a720f05f8000068</td>\n",
       "      <td>29.98</td>\n",
       "      <td>2.0</td>\n",
       "      <td>29.98</td>\n",
       "      <td>29.98</td>\n",
       "      <td>2.0</td>\n",
       "    </tr>\n",
       "    <tr>\n",
       "      <th>498</th>\n",
       "      <td>60132b740a7214ad50000012</td>\n",
       "      <td>1.00</td>\n",
       "      <td>2.0</td>\n",
       "      <td>3.56</td>\n",
       "      <td>3.56</td>\n",
       "      <td>4.0</td>\n",
       "    </tr>\n",
       "    <tr>\n",
       "      <th>516</th>\n",
       "      <td>601443600a7214ad50000060</td>\n",
       "      <td>10.00</td>\n",
       "      <td>1.0</td>\n",
       "      <td>0.00</td>\n",
       "      <td>0.00</td>\n",
       "      <td>0.0</td>\n",
       "    </tr>\n",
       "    <tr>\n",
       "      <th>520</th>\n",
       "      <td>60147ba00a7214ad500000d3</td>\n",
       "      <td>99.95</td>\n",
       "      <td>5.0</td>\n",
       "      <td>99.95</td>\n",
       "      <td>99.95</td>\n",
       "      <td>5.0</td>\n",
       "    </tr>\n",
       "    <tr>\n",
       "      <th>526</th>\n",
       "      <td>60145a510a7214ad50000086</td>\n",
       "      <td>10.00</td>\n",
       "      <td>1.0</td>\n",
       "      <td>25.00</td>\n",
       "      <td>25.00</td>\n",
       "      <td>2.0</td>\n",
       "    </tr>\n",
       "    <tr>\n",
       "      <th>533</th>\n",
       "      <td>601455820a720f05f80000fb</td>\n",
       "      <td>10.00</td>\n",
       "      <td>1.0</td>\n",
       "      <td>26.00</td>\n",
       "      <td>26.00</td>\n",
       "      <td>4.0</td>\n",
       "    </tr>\n",
       "    <tr>\n",
       "      <th>568</th>\n",
       "      <td>60189c900a7214ad28000038</td>\n",
       "      <td>10.00</td>\n",
       "      <td>1.0</td>\n",
       "      <td>27.00</td>\n",
       "      <td>27.00</td>\n",
       "      <td>5.0</td>\n",
       "    </tr>\n",
       "    <tr>\n",
       "      <th>630</th>\n",
       "      <td>602558a90a720f05a8000240</td>\n",
       "      <td>1.00</td>\n",
       "      <td>2.0</td>\n",
       "      <td>3.56</td>\n",
       "      <td>3.56</td>\n",
       "      <td>4.0</td>\n",
       "    </tr>\n",
       "  </tbody>\n",
       "</table>\n",
       "</div>"
      ],
      "text/plain": [
       "                   receipt_id  totalSpent  purchasedItemCount  finalPrice  \\\n",
       "2    5ff1e1f10a720f052300057a       10.00                 1.0        0.00   \n",
       "4    5ff1e1d20a7214ada1000561        1.00                 2.0        3.56   \n",
       "106  5ff618e30a7214ada10005fa       52.12                16.0       52.12   \n",
       "136  5ff726810a720f05230005ea        1.00                 2.0        3.56   \n",
       "160  5ff874050a7214ada100065d        1.00                 2.0        3.56   \n",
       "196  5ffcb4ad0a720f0515000009        1.00                 2.0        3.56   \n",
       "199  5ffc9d9c0a7214adca00004b       10.00                 1.0       24.00   \n",
       "203  5ffcb4b80a7214ad4e00000d       10.00                 1.0       22.00   \n",
       "274  6000d4b50a720f05f3000078       10.00                 1.0        0.00   \n",
       "289  6002590c0a7214ad4c000082      746.94               208.0      746.94   \n",
       "349  6008888f0a720f05fa0000b5        1.00                 2.0        3.56   \n",
       "359  60088aff0a7214ad890000da       10.00                 1.0        0.00   \n",
       "388  600affe60a7214ada2000009       83.85                21.0       83.85   \n",
       "453  6011f39c0a720f05350000b4        1.00                 2.0        3.56   \n",
       "488  6012ea2d0a720f05f8000068       29.98                 2.0       29.98   \n",
       "498  60132b740a7214ad50000012        1.00                 2.0        3.56   \n",
       "516  601443600a7214ad50000060       10.00                 1.0        0.00   \n",
       "520  60147ba00a7214ad500000d3       99.95                 5.0       99.95   \n",
       "526  60145a510a7214ad50000086       10.00                 1.0       25.00   \n",
       "533  601455820a720f05f80000fb       10.00                 1.0       26.00   \n",
       "568  60189c900a7214ad28000038       10.00                 1.0       27.00   \n",
       "630  602558a90a720f05a8000240        1.00                 2.0        3.56   \n",
       "\n",
       "     itemPrice  quantityPurchased  \n",
       "2         0.00                0.0  \n",
       "4         3.56                4.0  \n",
       "106      52.12               16.0  \n",
       "136       3.56                4.0  \n",
       "160       3.56                4.0  \n",
       "196       3.56                4.0  \n",
       "199      24.00                5.0  \n",
       "203      22.00                1.0  \n",
       "274       0.00                0.0  \n",
       "289     746.94              208.0  \n",
       "349       3.56                4.0  \n",
       "359       0.00                0.0  \n",
       "388      83.85               21.0  \n",
       "453       3.56                4.0  \n",
       "488      29.98                2.0  \n",
       "498       3.56                4.0  \n",
       "516       0.00                0.0  \n",
       "520      99.95                5.0  \n",
       "526      25.00                2.0  \n",
       "533      26.00                4.0  \n",
       "568      27.00                5.0  \n",
       "630       3.56                4.0  "
      ]
     },
     "execution_count": 436,
     "metadata": {},
     "output_type": "execute_result"
    }
   ],
   "source": [
    "comps.query(\"totalSpent != finalPrice\")"
   ]
  },
  {
   "cell_type": "code",
   "execution_count": 430,
   "id": "495128fe-f91f-41b6-b134-788494dd05bb",
   "metadata": {},
   "outputs": [
    {
     "data": {
      "text/plain": [
       "(24, 6)"
      ]
     },
     "execution_count": 430,
     "metadata": {},
     "output_type": "execute_result"
    }
   ],
   "source": [
    "comps.query(\"totalSpent != itemPrice\").shape"
   ]
  },
  {
   "cell_type": "markdown",
   "id": "0bf86e23-d565-494c-8c7a-c13a599e78e6",
   "metadata": {},
   "source": [
    "* Do we use itemPrice or finalPrice?\n",
    "* Why do some of these not line up with receipt's totalSpent"
   ]
  },
  {
   "cell_type": "code",
   "execution_count": 444,
   "id": "e18ea69f-8b9d-4fb4-be22-7c40e64bbee0",
   "metadata": {},
   "outputs": [
    {
     "data": {
      "text/html": [
       "<div>\n",
       "<style scoped>\n",
       "    .dataframe tbody tr th:only-of-type {\n",
       "        vertical-align: middle;\n",
       "    }\n",
       "\n",
       "    .dataframe tbody tr th {\n",
       "        vertical-align: top;\n",
       "    }\n",
       "\n",
       "    .dataframe thead th {\n",
       "        text-align: right;\n",
       "    }\n",
       "</style>\n",
       "<table border=\"1\" class=\"dataframe\">\n",
       "  <thead>\n",
       "    <tr style=\"text-align: right;\">\n",
       "      <th></th>\n",
       "      <th>receipt_id</th>\n",
       "      <th>totalSpent</th>\n",
       "      <th>purchasedItemCount</th>\n",
       "      <th>finalPrice</th>\n",
       "      <th>itemPrice</th>\n",
       "      <th>quantityPurchased</th>\n",
       "    </tr>\n",
       "  </thead>\n",
       "  <tbody>\n",
       "    <tr>\n",
       "      <th>2</th>\n",
       "      <td>5ff1e1f10a720f052300057a</td>\n",
       "      <td>10.0</td>\n",
       "      <td>1.0</td>\n",
       "      <td>0.00</td>\n",
       "      <td>0.00</td>\n",
       "      <td>0.0</td>\n",
       "    </tr>\n",
       "    <tr>\n",
       "      <th>4</th>\n",
       "      <td>5ff1e1d20a7214ada1000561</td>\n",
       "      <td>1.0</td>\n",
       "      <td>2.0</td>\n",
       "      <td>3.56</td>\n",
       "      <td>3.56</td>\n",
       "      <td>4.0</td>\n",
       "    </tr>\n",
       "    <tr>\n",
       "      <th>13</th>\n",
       "      <td>5f9c74f70a7214ad07000037</td>\n",
       "      <td>1.0</td>\n",
       "      <td>11.0</td>\n",
       "      <td>1.00</td>\n",
       "      <td>1.00</td>\n",
       "      <td>1.0</td>\n",
       "    </tr>\n",
       "    <tr>\n",
       "      <th>19</th>\n",
       "      <td>5ff1e1c80a720f052300056d</td>\n",
       "      <td>1.0</td>\n",
       "      <td>2.0</td>\n",
       "      <td>1.00</td>\n",
       "      <td>1.00</td>\n",
       "      <td>1.0</td>\n",
       "    </tr>\n",
       "    <tr>\n",
       "      <th>24</th>\n",
       "      <td>5ff1e1c60a7214ada100055e</td>\n",
       "      <td>1.0</td>\n",
       "      <td>2.0</td>\n",
       "      <td>1.00</td>\n",
       "      <td>1.00</td>\n",
       "      <td>1.0</td>\n",
       "    </tr>\n",
       "  </tbody>\n",
       "</table>\n",
       "</div>"
      ],
      "text/plain": [
       "                  receipt_id  totalSpent  purchasedItemCount  finalPrice  \\\n",
       "2   5ff1e1f10a720f052300057a        10.0                 1.0        0.00   \n",
       "4   5ff1e1d20a7214ada1000561         1.0                 2.0        3.56   \n",
       "13  5f9c74f70a7214ad07000037         1.0                11.0        1.00   \n",
       "19  5ff1e1c80a720f052300056d         1.0                 2.0        1.00   \n",
       "24  5ff1e1c60a7214ada100055e         1.0                 2.0        1.00   \n",
       "\n",
       "    itemPrice  quantityPurchased  \n",
       "2        0.00                0.0  \n",
       "4        3.56                4.0  \n",
       "13       1.00                1.0  \n",
       "19       1.00                1.0  \n",
       "24       1.00                1.0  "
      ]
     },
     "execution_count": 444,
     "metadata": {},
     "output_type": "execute_result"
    }
   ],
   "source": [
    "comps.query(\"purchasedItemCount != quantityPurchased\").head()"
   ]
  },
  {
   "cell_type": "markdown",
   "id": "25a043f4-778b-4266-9020-fe74c9f1ec17",
   "metadata": {},
   "source": [
    "* Similar issue appears when comparing the quantities in a receipt to the quantities in the items-list "
   ]
  },
  {
   "cell_type": "markdown",
   "id": "39b88559-0ad8-4d64-9d8f-631f92ed54e3",
   "metadata": {},
   "source": [
    "## Brands - Receipts/Items Key \n",
    "* Further exploration was done to figure out which fields to use to join these two tables;  \n",
    "* barcode (counterintuitively) did not prove to be helpful in this regards (even though this may presents an opportunity for data improvement. \n",
    "* brandCode seemed to be the best option, but further partial string matching was used to enhance the field (in etl_items.py)"
   ]
  },
  {
   "cell_type": "code",
   "execution_count": null,
   "id": "b2ac44c3-6b68-42e1-a4ee-4041a6b18fda",
   "metadata": {},
   "outputs": [],
   "source": []
  }
 ],
 "metadata": {
  "kernelspec": {
   "display_name": "Python 3 (ipykernel)",
   "language": "python",
   "name": "python3"
  },
  "language_info": {
   "codemirror_mode": {
    "name": "ipython",
    "version": 3
   },
   "file_extension": ".py",
   "mimetype": "text/x-python",
   "name": "python",
   "nbconvert_exporter": "python",
   "pygments_lexer": "ipython3",
   "version": "3.12.4"
  }
 },
 "nbformat": 4,
 "nbformat_minor": 5
}
